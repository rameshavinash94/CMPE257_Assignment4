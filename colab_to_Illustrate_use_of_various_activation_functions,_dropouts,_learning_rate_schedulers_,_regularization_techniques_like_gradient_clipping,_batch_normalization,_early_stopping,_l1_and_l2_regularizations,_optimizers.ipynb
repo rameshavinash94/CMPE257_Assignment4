{
  "nbformat": 4,
  "nbformat_minor": 0,
  "metadata": {
    "colab": {
      "name": "colab to  Illustrate use of various activation functions, dropouts, learning rate schedulers , regularization techniques like gradient clipping, batch normalization, early stopping, l1 and l2 regularizations, optimizers.ipynb",
      "provenance": [],
      "authorship_tag": "ABX9TyPpmCB3wzXVI2jZTkkpBzS7",
      "include_colab_link": true
    },
    "kernelspec": {
      "name": "python3",
      "display_name": "Python 3"
    },
    "language_info": {
      "name": "python"
    }
  },
  "cells": [
    {
      "cell_type": "markdown",
      "metadata": {
        "id": "view-in-github",
        "colab_type": "text"
      },
      "source": [
        "<a href=\"https://colab.research.google.com/github/rameshavinash94/CMPE258_Assignment4/blob/main/colab_to_Illustrate_use_of_various_activation_functions%2C_dropouts%2C_learning_rate_schedulers_%2C_regularization_techniques_like_gradient_clipping%2C_batch_normalization%2C_early_stopping%2C_l1_and_l2_regularizations%2C_optimizers.ipynb\" target=\"_parent\"><img src=\"https://colab.research.google.com/assets/colab-badge.svg\" alt=\"Open In Colab\"/></a>"
      ]
    },
    {
      "cell_type": "code",
      "execution_count": 2,
      "metadata": {
        "colab": {
          "base_uri": "https://localhost:8080/"
        },
        "id": "yqqUTZUNd5A0",
        "outputId": "680a9bf8-c357-4231-9e28-a3a0f0de0aae"
      },
      "outputs": [
        {
          "output_type": "stream",
          "name": "stdout",
          "text": [
            "The tensorboard extension is already loaded. To reload it, use:\n",
            "  %reload_ext tensorboard\n"
          ]
        }
      ],
      "source": [
        "# Python ≥3.5 is required\n",
        "import sys\n",
        "assert sys.version_info >= (3, 5)\n",
        "\n",
        "# Scikit-Learn ≥0.20 is required\n",
        "import sklearn\n",
        "assert sklearn.__version__ >= \"0.20\"\n",
        "\n",
        "try:\n",
        "    # %tensorflow_version only exists in Colab.\n",
        "    %tensorflow_version 2.x\n",
        "except Exception:\n",
        "    pass\n",
        "\n",
        "# TensorFlow ≥2.0 is required\n",
        "import tensorflow as tf\n",
        "from tensorflow import keras\n",
        "assert tf.__version__ >= \"2.0\"\n",
        "\n",
        "%load_ext tensorboard\n",
        "\n",
        "# Common imports\n",
        "import numpy as np\n",
        "import os\n",
        "\n",
        "# to make this notebook's output stable across runs\n",
        "np.random.seed(42)\n",
        "\n",
        "# To plot pretty figures\n",
        "%matplotlib inline\n",
        "import matplotlib as mpl\n",
        "import matplotlib.pyplot as plt\n",
        "mpl.rc('axes', labelsize=14)\n",
        "mpl.rc('xtick', labelsize=12)\n",
        "mpl.rc('ytick', labelsize=12)\n",
        "\n",
        "# Where to save the figures\n",
        "PROJECT_ROOT_DIR = \".\"\n",
        "CHAPTER_ID = \"deep\"\n",
        "IMAGES_PATH = os.path.join(PROJECT_ROOT_DIR, \"images\", CHAPTER_ID)\n",
        "os.makedirs(IMAGES_PATH, exist_ok=True)\n",
        "\n",
        "def save_fig(fig_id, tight_layout=True, fig_extension=\"png\", resolution=300):\n",
        "    path = os.path.join(IMAGES_PATH, fig_id + \".\" + fig_extension)\n",
        "    print(\"Saving figure\", fig_id)\n",
        "    if tight_layout:\n",
        "        plt.tight_layout()\n",
        "    plt.savefig(path, format=fig_extension, dpi=resolution)"
      ]
    },
    {
      "cell_type": "markdown",
      "metadata": {
        "id": "XEPFgumPd2Iz"
      },
      "source": [
        "**Vanishing/Exploding Gradients Problem**"
      ]
    },
    {
      "cell_type": "code",
      "execution_count": 3,
      "metadata": {
        "id": "S6BNidMdd2Iz"
      },
      "outputs": [],
      "source": [
        "def logit(z):\n",
        "    return 1 / (1 + np.exp(-z))"
      ]
    },
    {
      "cell_type": "code",
      "execution_count": 4,
      "metadata": {
        "id": "KpvZ4epvd2Iz",
        "outputId": "fd3111a7-26f0-45a0-9fbc-5cdcf845e647",
        "colab": {
          "base_uri": "https://localhost:8080/",
          "height": 315
        }
      },
      "outputs": [
        {
          "output_type": "stream",
          "name": "stdout",
          "text": [
            "Saving figure sigmoid_saturation_plot\n"
          ]
        },
        {
          "output_type": "display_data",
          "data": {
            "text/plain": [
              "<Figure size 432x288 with 1 Axes>"
            ],
            "image/png": "[encoded data removed]"
          },
          "metadata": {
            "needs_background": "light"
          }
        }
      ],
      "source": [
        "z = np.linspace(-5, 5, 200)\n",
        "\n",
        "plt.plot([-5, 5], [0, 0], 'k-')\n",
        "plt.plot([-5, 5], [1, 1], 'k--')\n",
        "plt.plot([0, 0], [-0.2, 1.2], 'k-')\n",
        "plt.plot([-5, 5], [-3/4, 7/4], 'g--')\n",
        "plt.plot(z, logit(z), \"b-\", linewidth=2)\n",
        "props = dict(facecolor='black', shrink=0.1)\n",
        "plt.annotate('Saturating', xytext=(3.5, 0.7), xy=(5, 1), arrowprops=props, fontsize=14, ha=\"center\")\n",
        "plt.annotate('Saturating', xytext=(-3.5, 0.3), xy=(-5, 0), arrowprops=props, fontsize=14, ha=\"center\")\n",
        "plt.annotate('Linear', xytext=(2, 0.2), xy=(0, 0.5), arrowprops=props, fontsize=14, ha=\"center\")\n",
        "plt.grid(True)\n",
        "plt.title(\"Sigmoid activation function\", fontsize=14)\n",
        "plt.axis([-5, 5, -0.2, 1.2])\n",
        "\n",
        "save_fig(\"sigmoid_saturation_plot\")\n",
        "plt.show()"
      ]
    },
    {
      "cell_type": "markdown",
      "metadata": {
        "id": "JhDY6ZCad2I0"
      },
      "source": [
        "**Xavier and He Initialization**"
      ]
    },
    {
      "cell_type": "code",
      "execution_count": 5,
      "metadata": {
        "id": "1o9Fjf_id2I0",
        "outputId": "375a81cf-9b88-48a7-e2f7-42d0d230e0aa",
        "colab": {
          "base_uri": "https://localhost:8080/"
        }
      },
      "outputs": [
        {
          "output_type": "execute_result",
          "data": {
            "text/plain": [
              "['Constant',\n",
              " 'GlorotNormal',\n",
              " 'GlorotUniform',\n",
              " 'HeNormal',\n",
              " 'HeUniform',\n",
              " 'Identity',\n",
              " 'Initializer',\n",
              " 'LecunNormal',\n",
              " 'LecunUniform',\n",
              " 'Ones',\n",
              " 'Orthogonal',\n",
              " 'RandomNormal',\n",
              " 'RandomUniform',\n",
              " 'TruncatedNormal',\n",
              " 'VarianceScaling',\n",
              " 'Zeros',\n",
              " 'constant',\n",
              " 'deserialize',\n",
              " 'get',\n",
              " 'glorot_normal',\n",
              " 'glorot_uniform',\n",
              " 'he_normal',\n",
              " 'he_uniform',\n",
              " 'identity',\n",
              " 'lecun_normal',\n",
              " 'lecun_uniform',\n",
              " 'ones',\n",
              " 'orthogonal',\n",
              " 'random_normal',\n",
              " 'random_uniform',\n",
              " 'serialize',\n",
              " 'truncated_normal',\n",
              " 'variance_scaling',\n",
              " 'zeros']"
            ]
          },
          "metadata": {},
          "execution_count": 5
        }
      ],
      "source": [
        "[name for name in dir(keras.initializers) if not name.startswith(\"_\")]"
      ]
    },
    {
      "cell_type": "code",
      "execution_count": 6,
      "metadata": {
        "id": "uPgS3ns9d2I1",
        "outputId": "0147cc55-2b43-4d73-c250-2d0d63150f20",
        "colab": {
          "base_uri": "https://localhost:8080/"
        }
      },
      "outputs": [
        {
          "output_type": "execute_result",
          "data": {
            "text/plain": [
              "<keras.layers.core.dense.Dense at 0x7fe1b8dc8f90>"
            ]
          },
          "metadata": {},
          "execution_count": 6
        }
      ],
      "source": [
        "keras.layers.Dense(10, activation=\"relu\", kernel_initializer=\"he_normal\")"
      ]
    },
    {
      "cell_type": "code",
      "execution_count": 7,
      "metadata": {
        "id": "ZEzpSLtjd2I1",
        "outputId": "c119721c-cd40-4233-94bd-933e95c9dfda",
        "colab": {
          "base_uri": "https://localhost:8080/"
        }
      },
      "outputs": [
        {
          "output_type": "execute_result",
          "data": {
            "text/plain": [
              "<keras.layers.core.dense.Dense at 0x7fe1b610da50>"
            ]
          },
          "metadata": {},
          "execution_count": 7
        }
      ],
      "source": [
        "init = keras.initializers.VarianceScaling(scale=2., mode='fan_avg',\n",
        "                                          distribution='uniform')\n",
        "keras.layers.Dense(10, activation=\"relu\", kernel_initializer=init)"
      ]
    },
    {
      "cell_type": "markdown",
      "metadata": {
        "id": "Kr71P0zJd2I1"
      },
      "source": [
        "**Nonsaturating Activation Functions**"
      ]
    },
    {
      "cell_type": "markdown",
      "metadata": {
        "id": "tu5B0aNJd2I1"
      },
      "source": [
        "**Leaky ReLU**"
      ]
    },
    {
      "cell_type": "code",
      "execution_count": 8,
      "metadata": {
        "id": "EBHXIoDyd2I1"
      },
      "outputs": [],
      "source": [
        "def leaky_relu(z, alpha=0.01):\n",
        "    return np.maximum(alpha*z, z)"
      ]
    },
    {
      "cell_type": "code",
      "execution_count": 9,
      "metadata": {
        "id": "G6_LDMGtd2I1",
        "outputId": "082e4532-dcd9-4b6e-f410-cb6cadc8ecbf",
        "colab": {
          "base_uri": "https://localhost:8080/",
          "height": 315
        }
      },
      "outputs": [
        {
          "output_type": "stream",
          "name": "stdout",
          "text": [
            "Saving figure leaky_relu_plot\n"
          ]
        },
        {
          "output_type": "display_data",
          "data": {
            "text/plain": [
              "<Figure size 432x288 with 1 Axes>"
            ],
            "image/png": "[encoded data removed]"
          },
          "metadata": {
            "needs_background": "light"
          }
        }
      ],
      "source": [
        "plt.plot(z, leaky_relu(z, 0.05), \"b-\", linewidth=2)\n",
        "plt.plot([-5, 5], [0, 0], 'k-')\n",
        "plt.plot([0, 0], [-0.5, 4.2], 'k-')\n",
        "plt.grid(True)\n",
        "props = dict(facecolor='black', shrink=0.1)\n",
        "plt.annotate('Leak', xytext=(-3.5, 0.5), xy=(-5, -0.2), arrowprops=props, fontsize=14, ha=\"center\")\n",
        "plt.title(\"Leaky ReLU activation function\", fontsize=14)\n",
        "plt.axis([-5, 5, -0.5, 4.2])\n",
        "\n",
        "save_fig(\"leaky_relu_plot\")\n",
        "plt.show()"
      ]
    },
    {
      "cell_type": "code",
      "execution_count": 10,
      "metadata": {
        "id": "ZmNwMnaud2I2",
        "outputId": "5eb4c943-523d-40ba-b23e-ee414392b08a",
        "colab": {
          "base_uri": "https://localhost:8080/"
        }
      },
      "outputs": [
        {
          "output_type": "execute_result",
          "data": {
            "text/plain": [
              "['deserialize',\n",
              " 'elu',\n",
              " 'exponential',\n",
              " 'gelu',\n",
              " 'get',\n",
              " 'hard_sigmoid',\n",
              " 'linear',\n",
              " 'relu',\n",
              " 'selu',\n",
              " 'serialize',\n",
              " 'sigmoid',\n",
              " 'softmax',\n",
              " 'softplus',\n",
              " 'softsign',\n",
              " 'swish',\n",
              " 'tanh']"
            ]
          },
          "metadata": {},
          "execution_count": 10
        }
      ],
      "source": [
        "[m for m in dir(keras.activations) if not m.startswith(\"_\")]"
      ]
    },
    {
      "cell_type": "code",
      "execution_count": 11,
      "metadata": {
        "id": "uYUwgK9Kd2I2",
        "outputId": "45bf42e2-0671-4535-c37c-9410e9fba4e2",
        "colab": {
          "base_uri": "https://localhost:8080/"
        }
      },
      "outputs": [
        {
          "output_type": "execute_result",
          "data": {
            "text/plain": [
              "['LeakyReLU', 'PReLU', 'ReLU', 'ThresholdedReLU']"
            ]
          },
          "metadata": {},
          "execution_count": 11
        }
      ],
      "source": [
        "[m for m in dir(keras.layers) if \"relu\" in m.lower()]"
      ]
    },
    {
      "cell_type": "markdown",
      "metadata": {
        "id": "5gPqVOKTd2I2"
      },
      "source": [
        "Let's train a neural network on Fashion MNIST using the Leaky ReLU:"
      ]
    },
    {
      "cell_type": "code",
      "execution_count": 12,
      "metadata": {
        "id": "iCaP64pId2I2",
        "colab": {
          "base_uri": "https://localhost:8080/"
        },
        "outputId": "bb7f3a4d-011c-496b-e7e6-ed21ed34a8ad"
      },
      "outputs": [
        {
          "output_type": "stream",
          "name": "stdout",
          "text": [
            "Downloading data from https://storage.googleapis.com/tensorflow/tf-keras-datasets/train-labels-idx1-ubyte.gz\n",
            "32768/29515 [=================================] - 0s 0us/step\n",
            "40960/29515 [=========================================] - 0s 0us/step\n",
            "Downloading data from https://storage.googleapis.com/tensorflow/tf-keras-datasets/train-images-idx3-ubyte.gz\n",
            "26427392/26421880 [==============================] - 0s 0us/step\n",
            "26435584/26421880 [==============================] - 0s 0us/step\n",
            "Downloading data from https://storage.googleapis.com/tensorflow/tf-keras-datasets/t10k-labels-idx1-ubyte.gz\n",
            "16384/5148 [===============================================================================================] - 0s 0us/step\n",
            "Downloading data from https://storage.googleapis.com/tensorflow/tf-keras-datasets/t10k-images-idx3-ubyte.gz\n",
            "4423680/4422102 [==============================] - 0s 0us/step\n",
            "4431872/4422102 [==============================] - 0s 0us/step\n"
          ]
        }
      ],
      "source": [
        "(X_train_full, y_train_full), (X_test, y_test) = keras.datasets.fashion_mnist.load_data()\n",
        "X_train_full = X_train_full / 255.0\n",
        "X_test = X_test / 255.0\n",
        "X_valid, X_train = X_train_full[:5000], X_train_full[5000:]\n",
        "y_valid, y_train = y_train_full[:5000], y_train_full[5000:]"
      ]
    },
    {
      "cell_type": "code",
      "execution_count": 13,
      "metadata": {
        "id": "tSHTSTZxd2I2"
      },
      "outputs": [],
      "source": [
        "tf.random.set_seed(42)\n",
        "np.random.seed(42)\n",
        "\n",
        "model = keras.models.Sequential([\n",
        "    keras.layers.Flatten(input_shape=[28, 28]),\n",
        "    keras.layers.Dense(300, kernel_initializer=\"he_normal\"),\n",
        "    keras.layers.LeakyReLU(),\n",
        "    keras.layers.Dense(100, kernel_initializer=\"he_normal\"),\n",
        "    keras.layers.LeakyReLU(),\n",
        "    keras.layers.Dense(10, activation=\"softmax\")\n",
        "])"
      ]
    },
    {
      "cell_type": "code",
      "execution_count": 14,
      "metadata": {
        "id": "IL7PDaIDd2I2"
      },
      "outputs": [],
      "source": [
        "model.compile(loss=\"sparse_categorical_crossentropy\",\n",
        "              optimizer=keras.optimizers.SGD(learning_rate=1e-3),\n",
        "              metrics=[\"accuracy\"])"
      ]
    },
    {
      "cell_type": "code",
      "execution_count": 15,
      "metadata": {
        "scrolled": true,
        "id": "nm5qARaOd2I2",
        "outputId": "18f89f4f-8584-45ce-ee41-f60410ea503e",
        "colab": {
          "base_uri": "https://localhost:8080/"
        }
      },
      "outputs": [
        {
          "output_type": "stream",
          "name": "stdout",
          "text": [
            "Epoch 1/10\n",
            "1719/1719 [==============================] - 10s 5ms/step - loss: 1.2819 - accuracy: 0.6229 - val_loss: 0.8886 - val_accuracy: 0.7160\n",
            "Epoch 2/10\n",
            "1719/1719 [==============================] - 9s 5ms/step - loss: 0.7955 - accuracy: 0.7361 - val_loss: 0.7130 - val_accuracy: 0.7656\n",
            "Epoch 3/10\n",
            "1719/1719 [==============================] - 10s 6ms/step - loss: 0.6816 - accuracy: 0.7721 - val_loss: 0.6427 - val_accuracy: 0.7900\n",
            "Epoch 4/10\n",
            "1719/1719 [==============================] - 11s 6ms/step - loss: 0.6217 - accuracy: 0.7944 - val_loss: 0.5900 - val_accuracy: 0.8064\n",
            "Epoch 5/10\n",
            "1719/1719 [==============================] - 10s 6ms/step - loss: 0.5832 - accuracy: 0.8074 - val_loss: 0.5582 - val_accuracy: 0.8200\n",
            "Epoch 6/10\n",
            "1719/1719 [==============================] - 8s 5ms/step - loss: 0.5553 - accuracy: 0.8156 - val_loss: 0.5350 - val_accuracy: 0.8238\n",
            "Epoch 7/10\n",
            "1719/1719 [==============================] - 8s 4ms/step - loss: 0.5339 - accuracy: 0.8223 - val_loss: 0.5156 - val_accuracy: 0.8302\n",
            "Epoch 8/10\n",
            "1719/1719 [==============================] - 8s 4ms/step - loss: 0.5173 - accuracy: 0.8272 - val_loss: 0.5079 - val_accuracy: 0.8284\n",
            "Epoch 9/10\n",
            "1719/1719 [==============================] - 9s 5ms/step - loss: 0.5040 - accuracy: 0.8290 - val_loss: 0.4895 - val_accuracy: 0.8386\n",
            "Epoch 10/10\n",
            "1719/1719 [==============================] - 8s 5ms/step - loss: 0.4924 - accuracy: 0.8319 - val_loss: 0.4817 - val_accuracy: 0.8396\n"
          ]
        }
      ],
      "source": [
        "history = model.fit(X_train, y_train, epochs=10,\n",
        "                    validation_data=(X_valid, y_valid))"
      ]
    },
    {
      "cell_type": "markdown",
      "metadata": {
        "id": "b8oV3quWd2I2"
      },
      "source": [
        "**PRELU**"
      ]
    },
    {
      "cell_type": "code",
      "execution_count": 16,
      "metadata": {
        "id": "K8Wu24-zd2I2"
      },
      "outputs": [],
      "source": [
        "tf.random.set_seed(42)\n",
        "np.random.seed(42)\n",
        "\n",
        "model = keras.models.Sequential([\n",
        "    keras.layers.Flatten(input_shape=[28, 28]),\n",
        "    keras.layers.Dense(300, kernel_initializer=\"he_normal\"),\n",
        "    keras.layers.PReLU(),\n",
        "    keras.layers.Dense(100, kernel_initializer=\"he_normal\"),\n",
        "    keras.layers.PReLU(),\n",
        "    keras.layers.Dense(10, activation=\"softmax\")\n",
        "])"
      ]
    },
    {
      "cell_type": "code",
      "execution_count": 17,
      "metadata": {
        "id": "5WvA6AGCd2I3"
      },
      "outputs": [],
      "source": [
        "model.compile(loss=\"sparse_categorical_crossentropy\",\n",
        "              optimizer=keras.optimizers.SGD(learning_rate=1e-3),\n",
        "              metrics=[\"accuracy\"])"
      ]
    },
    {
      "cell_type": "code",
      "execution_count": 18,
      "metadata": {
        "id": "HJ09OHgyd2I3",
        "outputId": "747e992b-940e-4a4b-f535-55bd0344d7da",
        "colab": {
          "base_uri": "https://localhost:8080/"
        }
      },
      "outputs": [
        {
          "output_type": "stream",
          "name": "stdout",
          "text": [
            "Epoch 1/10\n",
            "1719/1719 [==============================] - 10s 6ms/step - loss: 1.3461 - accuracy: 0.6209 - val_loss: 0.9255 - val_accuracy: 0.7186\n",
            "Epoch 2/10\n",
            "1719/1719 [==============================] - 10s 6ms/step - loss: 0.8197 - accuracy: 0.7355 - val_loss: 0.7305 - val_accuracy: 0.7628\n",
            "Epoch 3/10\n",
            "1719/1719 [==============================] - 9s 5ms/step - loss: 0.6966 - accuracy: 0.7694 - val_loss: 0.6565 - val_accuracy: 0.7878\n",
            "Epoch 4/10\n",
            "1719/1719 [==============================] - 10s 6ms/step - loss: 0.6331 - accuracy: 0.7909 - val_loss: 0.6003 - val_accuracy: 0.8046\n",
            "Epoch 5/10\n",
            "1719/1719 [==============================] - 9s 5ms/step - loss: 0.5917 - accuracy: 0.8057 - val_loss: 0.5656 - val_accuracy: 0.8180\n",
            "Epoch 6/10\n",
            "1719/1719 [==============================] - 9s 5ms/step - loss: 0.5618 - accuracy: 0.8134 - val_loss: 0.5406 - val_accuracy: 0.8238\n",
            "Epoch 7/10\n",
            "1719/1719 [==============================] - 9s 5ms/step - loss: 0.5390 - accuracy: 0.8205 - val_loss: 0.5196 - val_accuracy: 0.8312\n",
            "Epoch 8/10\n",
            "1719/1719 [==============================] - 9s 6ms/step - loss: 0.5213 - accuracy: 0.8257 - val_loss: 0.5113 - val_accuracy: 0.8318\n",
            "Epoch 9/10\n",
            "1719/1719 [==============================] - 9s 5ms/step - loss: 0.5070 - accuracy: 0.8289 - val_loss: 0.4916 - val_accuracy: 0.8378\n",
            "Epoch 10/10\n",
            "1719/1719 [==============================] - 10s 6ms/step - loss: 0.4945 - accuracy: 0.8315 - val_loss: 0.4826 - val_accuracy: 0.8396\n"
          ]
        }
      ],
      "source": [
        "history = model.fit(X_train, y_train, epochs=10,\n",
        "                    validation_data=(X_valid, y_valid))"
      ]
    },
    {
      "cell_type": "markdown",
      "metadata": {
        "id": "LiF-1H1Od2I3"
      },
      "source": [
        "**ELU**"
      ]
    },
    {
      "cell_type": "code",
      "execution_count": 19,
      "metadata": {
        "id": "DI1-ic8Yd2I3"
      },
      "outputs": [],
      "source": [
        "def elu(z, alpha=1):\n",
        "    return np.where(z < 0, alpha * (np.exp(z) - 1), z)"
      ]
    },
    {
      "cell_type": "code",
      "execution_count": 20,
      "metadata": {
        "id": "qgFm5oLed2I3",
        "outputId": "8fb27d66-764f-443f-f7bf-edc63fa500ca",
        "colab": {
          "base_uri": "https://localhost:8080/",
          "height": 315
        }
      },
      "outputs": [
        {
          "output_type": "stream",
          "name": "stdout",
          "text": [
            "Saving figure elu_plot\n"
          ]
        },
        {
          "output_type": "display_data",
          "data": {
            "text/plain": [
              "<Figure size 432x288 with 1 Axes>"
            ],
            "image/png": "[encoded data removed]"
          },
          "metadata": {
            "needs_background": "light"
          }
        }
      ],
      "source": [
        "plt.plot(z, elu(z), \"b-\", linewidth=2)\n",
        "plt.plot([-5, 5], [0, 0], 'k-')\n",
        "plt.plot([-5, 5], [-1, -1], 'k--')\n",
        "plt.plot([0, 0], [-2.2, 3.2], 'k-')\n",
        "plt.grid(True)\n",
        "plt.title(r\"ELU activation function ($\\alpha=1$)\", fontsize=14)\n",
        "plt.axis([-5, 5, -2.2, 3.2])\n",
        "\n",
        "save_fig(\"elu_plot\")\n",
        "plt.show()"
      ]
    },
    {
      "cell_type": "markdown",
      "metadata": {
        "id": "XEOKjVbCd2I3"
      },
      "source": [
        "Implementing ELU in TensorFlow is trivial, just specify the activation function when building each layer:"
      ]
    },
    {
      "cell_type": "code",
      "execution_count": 21,
      "metadata": {
        "id": "G42cHOV7d2I3",
        "outputId": "cde78f0b-b99a-494f-b421-b2396006156c",
        "colab": {
          "base_uri": "https://localhost:8080/"
        }
      },
      "outputs": [
        {
          "output_type": "execute_result",
          "data": {
            "text/plain": [
              "<keras.layers.core.dense.Dense at 0x7fe1b109da90>"
            ]
          },
          "metadata": {},
          "execution_count": 21
        }
      ],
      "source": [
        "keras.layers.Dense(10, activation=\"elu\")"
      ]
    },
    {
      "cell_type": "markdown",
      "metadata": {
        "id": "wqa_O98dd2I3"
      },
      "source": [
        "**SELU**"
      ]
    },
    {
      "cell_type": "code",
      "execution_count": 22,
      "metadata": {
        "id": "a8riuGgod2I3"
      },
      "outputs": [],
      "source": [
        "from scipy.special import erfc\n",
        "\n",
        "# alpha and scale to self normalize with mean 0 and standard deviation 1\n",
        "# (see equation 14 in the paper):\n",
        "alpha_0_1 = -np.sqrt(2 / np.pi) / (erfc(1/np.sqrt(2)) * np.exp(1/2) - 1)\n",
        "scale_0_1 = (1 - erfc(1 / np.sqrt(2)) * np.sqrt(np.e)) * np.sqrt(2 * np.pi) * (2 * erfc(np.sqrt(2))*np.e**2 + np.pi*erfc(1/np.sqrt(2))**2*np.e - 2*(2+np.pi)*erfc(1/np.sqrt(2))*np.sqrt(np.e)+np.pi+2)**(-1/2)"
      ]
    },
    {
      "cell_type": "code",
      "execution_count": 23,
      "metadata": {
        "id": "Ho8mdMoQd2I4"
      },
      "outputs": [],
      "source": [
        "def selu(z, scale=scale_0_1, alpha=alpha_0_1):\n",
        "    return scale * elu(z, alpha)"
      ]
    },
    {
      "cell_type": "code",
      "execution_count": 24,
      "metadata": {
        "id": "lZin4rpyd2I4",
        "outputId": "5475ce31-e4dc-4340-960f-d01b3af2cd18",
        "colab": {
          "base_uri": "https://localhost:8080/",
          "height": 315
        }
      },
      "outputs": [
        {
          "output_type": "stream",
          "name": "stdout",
          "text": [
            "Saving figure selu_plot\n"
          ]
        },
        {
          "output_type": "display_data",
          "data": {
            "text/plain": [
              "<Figure size 432x288 with 1 Axes>"
            ],
            "image/png": "[encoded data removed]"
          },
          "metadata": {
            "needs_background": "light"
          }
        }
      ],
      "source": [
        "plt.plot(z, selu(z), \"b-\", linewidth=2)\n",
        "plt.plot([-5, 5], [0, 0], 'k-')\n",
        "plt.plot([-5, 5], [-1.758, -1.758], 'k--')\n",
        "plt.plot([0, 0], [-2.2, 3.2], 'k-')\n",
        "plt.grid(True)\n",
        "plt.title(\"SELU activation function\", fontsize=14)\n",
        "plt.axis([-5, 5, -2.2, 3.2])\n",
        "\n",
        "save_fig(\"selu_plot\")\n",
        "plt.show()"
      ]
    },
    {
      "cell_type": "code",
      "execution_count": 25,
      "metadata": {
        "id": "wuiq7F-od2I4",
        "outputId": "5bbd8787-f2fb-43a4-80dc-709feef4b6e4",
        "colab": {
          "base_uri": "https://localhost:8080/"
        }
      },
      "outputs": [
        {
          "output_type": "stream",
          "name": "stdout",
          "text": [
            "Layer 0: mean -0.00, std deviation 1.00\n",
            "Layer 100: mean 0.02, std deviation 0.96\n",
            "Layer 200: mean 0.01, std deviation 0.90\n",
            "Layer 300: mean -0.02, std deviation 0.92\n",
            "Layer 400: mean 0.05, std deviation 0.89\n",
            "Layer 500: mean 0.01, std deviation 0.93\n",
            "Layer 600: mean 0.02, std deviation 0.92\n",
            "Layer 700: mean -0.02, std deviation 0.90\n",
            "Layer 800: mean 0.05, std deviation 0.83\n",
            "Layer 900: mean 0.02, std deviation 1.00\n"
          ]
        }
      ],
      "source": [
        "np.random.seed(42)\n",
        "Z = np.random.normal(size=(500, 100)) # standardized inputs\n",
        "for layer in range(1000):\n",
        "    W = np.random.normal(size=(100, 100), scale=np.sqrt(1 / 100)) # LeCun initialization\n",
        "    Z = selu(np.dot(Z, W))\n",
        "    means = np.mean(Z, axis=0).mean()\n",
        "    stds = np.std(Z, axis=0).mean()\n",
        "    if layer % 100 == 0:\n",
        "        print(\"Layer {}: mean {:.2f}, std deviation {:.2f}\".format(layer, means, stds))"
      ]
    },
    {
      "cell_type": "markdown",
      "metadata": {
        "id": "ReC-r7Wrd2I4"
      },
      "source": [
        "Using SELU is easy:"
      ]
    },
    {
      "cell_type": "code",
      "execution_count": 26,
      "metadata": {
        "id": "HnSDetZzd2I4",
        "outputId": "7bea0aea-9d01-4d82-eb7c-9e6270d9008d",
        "colab": {
          "base_uri": "https://localhost:8080/"
        }
      },
      "outputs": [
        {
          "output_type": "execute_result",
          "data": {
            "text/plain": [
              "<keras.layers.core.dense.Dense at 0x7fe1b0f28a90>"
            ]
          },
          "metadata": {},
          "execution_count": 26
        }
      ],
      "source": [
        "keras.layers.Dense(10, activation=\"selu\",\n",
        "                   kernel_initializer=\"lecun_normal\")"
      ]
    },
    {
      "cell_type": "markdown",
      "metadata": {
        "id": "k3SH_LJQd2I4"
      },
      "source": [
        "Let's create a neural net for Fashion MNIST with 100 hidden layers, using the SELU activation function:"
      ]
    },
    {
      "cell_type": "code",
      "execution_count": 27,
      "metadata": {
        "id": "GJIoG8Tfd2I4"
      },
      "outputs": [],
      "source": [
        "np.random.seed(42)\n",
        "tf.random.set_seed(42)"
      ]
    },
    {
      "cell_type": "code",
      "execution_count": 28,
      "metadata": {
        "id": "C_T5zRq8d2I4"
      },
      "outputs": [],
      "source": [
        "model = keras.models.Sequential()\n",
        "model.add(keras.layers.Flatten(input_shape=[28, 28]))\n",
        "model.add(keras.layers.Dense(300, activation=\"selu\",\n",
        "                             kernel_initializer=\"lecun_normal\"))\n",
        "for layer in range(99):\n",
        "    model.add(keras.layers.Dense(100, activation=\"selu\",\n",
        "                                 kernel_initializer=\"lecun_normal\"))\n",
        "model.add(keras.layers.Dense(10, activation=\"softmax\"))"
      ]
    },
    {
      "cell_type": "code",
      "execution_count": 29,
      "metadata": {
        "id": "32rDFRFhd2I4"
      },
      "outputs": [],
      "source": [
        "model.compile(loss=\"sparse_categorical_crossentropy\",\n",
        "              optimizer=keras.optimizers.SGD(learning_rate=1e-3),\n",
        "              metrics=[\"accuracy\"])"
      ]
    },
    {
      "cell_type": "markdown",
      "metadata": {
        "id": "ZZdhT2Prd2I4"
      },
      "source": [
        "Now let's train it. Do not forget to scale the inputs to mean 0 and standard deviation 1:"
      ]
    },
    {
      "cell_type": "code",
      "execution_count": 30,
      "metadata": {
        "id": "aBcXT2iTd2I4"
      },
      "outputs": [],
      "source": [
        "pixel_means = X_train.mean(axis=0, keepdims=True)\n",
        "pixel_stds = X_train.std(axis=0, keepdims=True)\n",
        "X_train_scaled = (X_train - pixel_means) / pixel_stds\n",
        "X_valid_scaled = (X_valid - pixel_means) / pixel_stds\n",
        "X_test_scaled = (X_test - pixel_means) / pixel_stds"
      ]
    },
    {
      "cell_type": "code",
      "execution_count": 31,
      "metadata": {
        "id": "CAHDoZOdd2I4",
        "outputId": "9d0225c2-a19b-4552-e750-7a25bf0e97f4",
        "colab": {
          "base_uri": "https://localhost:8080/"
        }
      },
      "outputs": [
        {
          "output_type": "stream",
          "name": "stdout",
          "text": [
            "Epoch 1/5\n",
            "1719/1719 [==============================] - 38s 20ms/step - loss: 1.3776 - accuracy: 0.4540 - val_loss: 1.1731 - val_accuracy: 0.5614\n",
            "Epoch 2/5\n",
            "1719/1719 [==============================] - 34s 20ms/step - loss: 0.9138 - accuracy: 0.6665 - val_loss: 0.7028 - val_accuracy: 0.7484\n",
            "Epoch 3/5\n",
            "1719/1719 [==============================] - 34s 20ms/step - loss: 0.6962 - accuracy: 0.7481 - val_loss: 0.6540 - val_accuracy: 0.7546\n",
            "Epoch 4/5\n",
            "1719/1719 [==============================] - 35s 20ms/step - loss: 0.6539 - accuracy: 0.7676 - val_loss: 0.5557 - val_accuracy: 0.7978\n",
            "Epoch 5/5\n",
            "1719/1719 [==============================] - 33s 19ms/step - loss: 0.5582 - accuracy: 0.7990 - val_loss: 0.5703 - val_accuracy: 0.8016\n"
          ]
        }
      ],
      "source": [
        "history = model.fit(X_train_scaled, y_train, epochs=5,\n",
        "                    validation_data=(X_valid_scaled, y_valid))"
      ]
    },
    {
      "cell_type": "markdown",
      "metadata": {
        "id": "W0AUHqubd2I4"
      },
      "source": [
        "Now look at what happens if we try to use the ReLU activation function instead:"
      ]
    },
    {
      "cell_type": "code",
      "execution_count": 32,
      "metadata": {
        "id": "yk7NdTDjd2I4"
      },
      "outputs": [],
      "source": [
        "np.random.seed(42)\n",
        "tf.random.set_seed(42)"
      ]
    },
    {
      "cell_type": "code",
      "execution_count": 33,
      "metadata": {
        "id": "_g_sQCQzd2I5"
      },
      "outputs": [],
      "source": [
        "model = keras.models.Sequential()\n",
        "model.add(keras.layers.Flatten(input_shape=[28, 28]))\n",
        "model.add(keras.layers.Dense(300, activation=\"relu\", kernel_initializer=\"he_normal\"))\n",
        "for layer in range(99):\n",
        "    model.add(keras.layers.Dense(100, activation=\"relu\", kernel_initializer=\"he_normal\"))\n",
        "model.add(keras.layers.Dense(10, activation=\"softmax\"))"
      ]
    },
    {
      "cell_type": "code",
      "execution_count": 34,
      "metadata": {
        "id": "cu83yQigd2I5"
      },
      "outputs": [],
      "source": [
        "model.compile(loss=\"sparse_categorical_crossentropy\",\n",
        "              optimizer=keras.optimizers.SGD(learning_rate=1e-3),\n",
        "              metrics=[\"accuracy\"])"
      ]
    },
    {
      "cell_type": "code",
      "execution_count": 35,
      "metadata": {
        "id": "SBtotnBRd2I5",
        "outputId": "5ff08f4e-e001-4d7a-a3d4-64a21dce5774",
        "colab": {
          "base_uri": "https://localhost:8080/"
        }
      },
      "outputs": [
        {
          "output_type": "stream",
          "name": "stdout",
          "text": [
            "Epoch 1/5\n",
            "1719/1719 [==============================] - 38s 20ms/step - loss: 1.8261 - accuracy: 0.2616 - val_loss: 1.3347 - val_accuracy: 0.3894\n",
            "Epoch 2/5\n",
            "1719/1719 [==============================] - 33s 19ms/step - loss: 1.1959 - accuracy: 0.4908 - val_loss: 0.9373 - val_accuracy: 0.5902\n",
            "Epoch 3/5\n",
            "1719/1719 [==============================] - 31s 18ms/step - loss: 0.9600 - accuracy: 0.6118 - val_loss: 0.9026 - val_accuracy: 0.5906\n",
            "Epoch 4/5\n",
            "1719/1719 [==============================] - 31s 18ms/step - loss: 0.8231 - accuracy: 0.6759 - val_loss: 0.7320 - val_accuracy: 0.7290\n",
            "Epoch 5/5\n",
            "1719/1719 [==============================] - 31s 18ms/step - loss: 0.7360 - accuracy: 0.7171 - val_loss: 0.7823 - val_accuracy: 0.7108\n"
          ]
        }
      ],
      "source": [
        "history = model.fit(X_train_scaled, y_train, epochs=5,\n",
        "                    validation_data=(X_valid_scaled, y_valid))"
      ]
    },
    {
      "cell_type": "markdown",
      "metadata": {
        "id": "17qB1BmCd2I5"
      },
      "source": [
        "Not great at all, we suffered from the vanishing/exploding gradients problem."
      ]
    },
    {
      "cell_type": "markdown",
      "metadata": {
        "id": "0KDFCjIbd2I5"
      },
      "source": [
        "**Batch Normalization**"
      ]
    },
    {
      "cell_type": "code",
      "execution_count": 36,
      "metadata": {
        "id": "QPvrYMjod2I5"
      },
      "outputs": [],
      "source": [
        "model = keras.models.Sequential([\n",
        "    keras.layers.Flatten(input_shape=[28, 28]),\n",
        "    keras.layers.BatchNormalization(),\n",
        "    keras.layers.Dense(300, activation=\"relu\"),\n",
        "    keras.layers.BatchNormalization(),\n",
        "    keras.layers.Dense(100, activation=\"relu\"),\n",
        "    keras.layers.BatchNormalization(),\n",
        "    keras.layers.Dense(10, activation=\"softmax\")\n",
        "])"
      ]
    },
    {
      "cell_type": "code",
      "execution_count": 37,
      "metadata": {
        "id": "D_d40J7bd2I5",
        "outputId": "2315ead3-2e9a-41f1-ea46-a9d87722099c",
        "colab": {
          "base_uri": "https://localhost:8080/"
        }
      },
      "outputs": [
        {
          "output_type": "stream",
          "name": "stdout",
          "text": [
            "Model: \"sequential_4\"\n",
            "_________________________________________________________________\n",
            " Layer (type)                Output Shape              Param #   \n",
            "=================================================================\n",
            " flatten_4 (Flatten)         (None, 784)               0         \n",
            "                                                                 \n",
            " batch_normalization (BatchN  (None, 784)              3136      \n",
            " ormalization)                                                   \n",
            "                                                                 \n",
            " dense_212 (Dense)           (None, 300)               235500    \n",
            "                                                                 \n",
            " batch_normalization_1 (Batc  (None, 300)              1200      \n",
            " hNormalization)                                                 \n",
            "                                                                 \n",
            " dense_213 (Dense)           (None, 100)               30100     \n",
            "                                                                 \n",
            " batch_normalization_2 (Batc  (None, 100)              400       \n",
            " hNormalization)                                                 \n",
            "                                                                 \n",
            " dense_214 (Dense)           (None, 10)                1010      \n",
            "                                                                 \n",
            "=================================================================\n",
            "Total params: 271,346\n",
            "Trainable params: 268,978\n",
            "Non-trainable params: 2,368\n",
            "_________________________________________________________________\n"
          ]
        }
      ],
      "source": [
        "model.summary()"
      ]
    },
    {
      "cell_type": "code",
      "execution_count": 38,
      "metadata": {
        "id": "nTEU6erTd2I5",
        "outputId": "e2dab2b0-cd7f-49de-ee0e-780d20b095b4",
        "colab": {
          "base_uri": "https://localhost:8080/"
        }
      },
      "outputs": [
        {
          "output_type": "execute_result",
          "data": {
            "text/plain": [
              "[('batch_normalization/gamma:0', True),\n",
              " ('batch_normalization/beta:0', True),\n",
              " ('batch_normalization/moving_mean:0', False),\n",
              " ('batch_normalization/moving_variance:0', False)]"
            ]
          },
          "metadata": {},
          "execution_count": 38
        }
      ],
      "source": [
        "bn1 = model.layers[1]\n",
        "[(var.name, var.trainable) for var in bn1.variables]"
      ]
    },
    {
      "cell_type": "code",
      "execution_count": 39,
      "metadata": {
        "id": "2oeJU8xTd2I5"
      },
      "outputs": [],
      "source": [
        "#bn1.updates #deprecated"
      ]
    },
    {
      "cell_type": "code",
      "execution_count": 40,
      "metadata": {
        "id": "ATt6DAuPd2I5"
      },
      "outputs": [],
      "source": [
        "model.compile(loss=\"sparse_categorical_crossentropy\",\n",
        "              optimizer=keras.optimizers.SGD(learning_rate=1e-3),\n",
        "              metrics=[\"accuracy\"])"
      ]
    },
    {
      "cell_type": "code",
      "execution_count": 41,
      "metadata": {
        "id": "VdYaQgBDd2I5",
        "outputId": "71dca1e6-acdf-4be8-aff6-4960b34409ae",
        "colab": {
          "base_uri": "https://localhost:8080/"
        }
      },
      "outputs": [
        {
          "output_type": "stream",
          "name": "stdout",
          "text": [
            "Epoch 1/10\n",
            "1719/1719 [==============================] - 14s 8ms/step - loss: 0.8750 - accuracy: 0.7123 - val_loss: 0.5525 - val_accuracy: 0.8224\n",
            "Epoch 2/10\n",
            "1719/1719 [==============================] - 13s 7ms/step - loss: 0.5754 - accuracy: 0.8030 - val_loss: 0.4725 - val_accuracy: 0.8472\n",
            "Epoch 3/10\n",
            "1719/1719 [==============================] - 13s 8ms/step - loss: 0.5189 - accuracy: 0.8205 - val_loss: 0.4376 - val_accuracy: 0.8550\n",
            "Epoch 4/10\n",
            "1719/1719 [==============================] - 13s 8ms/step - loss: 0.4827 - accuracy: 0.8324 - val_loss: 0.4153 - val_accuracy: 0.8600\n",
            "Epoch 5/10\n",
            "1719/1719 [==============================] - 13s 8ms/step - loss: 0.4565 - accuracy: 0.8407 - val_loss: 0.3997 - val_accuracy: 0.8644\n",
            "Epoch 6/10\n",
            "1719/1719 [==============================] - 13s 8ms/step - loss: 0.4397 - accuracy: 0.8475 - val_loss: 0.3867 - val_accuracy: 0.8694\n",
            "Epoch 7/10\n",
            "1719/1719 [==============================] - 13s 7ms/step - loss: 0.4241 - accuracy: 0.8515 - val_loss: 0.3762 - val_accuracy: 0.8702\n",
            "Epoch 8/10\n",
            "1719/1719 [==============================] - 13s 8ms/step - loss: 0.4143 - accuracy: 0.8540 - val_loss: 0.3712 - val_accuracy: 0.8742\n",
            "Epoch 9/10\n",
            "1719/1719 [==============================] - 13s 7ms/step - loss: 0.4023 - accuracy: 0.8580 - val_loss: 0.3632 - val_accuracy: 0.8746\n",
            "Epoch 10/10\n",
            "1719/1719 [==============================] - 14s 8ms/step - loss: 0.3914 - accuracy: 0.8624 - val_loss: 0.3573 - val_accuracy: 0.8762\n"
          ]
        }
      ],
      "source": [
        "history = model.fit(X_train, y_train, epochs=10,\n",
        "                    validation_data=(X_valid, y_valid))"
      ]
    },
    {
      "cell_type": "code",
      "execution_count": 42,
      "metadata": {
        "id": "rneGZBPWd2I5"
      },
      "outputs": [],
      "source": [
        "model = keras.models.Sequential([\n",
        "    keras.layers.Flatten(input_shape=[28, 28]),\n",
        "    keras.layers.BatchNormalization(),\n",
        "    keras.layers.Dense(300, use_bias=False),\n",
        "    keras.layers.BatchNormalization(),\n",
        "    keras.layers.Activation(\"relu\"),\n",
        "    keras.layers.Dense(100, use_bias=False),\n",
        "    keras.layers.BatchNormalization(),\n",
        "    keras.layers.Activation(\"relu\"),\n",
        "    keras.layers.Dense(10, activation=\"softmax\")\n",
        "])"
      ]
    },
    {
      "cell_type": "code",
      "execution_count": 43,
      "metadata": {
        "id": "rutAefJPd2I5"
      },
      "outputs": [],
      "source": [
        "model.compile(loss=\"sparse_categorical_crossentropy\",\n",
        "              optimizer=keras.optimizers.SGD(learning_rate=1e-3),\n",
        "              metrics=[\"accuracy\"])"
      ]
    },
    {
      "cell_type": "code",
      "execution_count": 44,
      "metadata": {
        "id": "c3WlIJsQd2I5",
        "outputId": "6ebbec15-b917-4ed6-de47-4845fe4a96b6",
        "colab": {
          "base_uri": "https://localhost:8080/"
        }
      },
      "outputs": [
        {
          "output_type": "stream",
          "name": "stdout",
          "text": [
            "Epoch 1/10\n",
            "1719/1719 [==============================] - 15s 8ms/step - loss: 1.0317 - accuracy: 0.6756 - val_loss: 0.6767 - val_accuracy: 0.7814\n",
            "Epoch 2/10\n",
            "1719/1719 [==============================] - 14s 8ms/step - loss: 0.6790 - accuracy: 0.7793 - val_loss: 0.5566 - val_accuracy: 0.8184\n",
            "Epoch 3/10\n",
            "1719/1719 [==============================] - 13s 8ms/step - loss: 0.5960 - accuracy: 0.8037 - val_loss: 0.5007 - val_accuracy: 0.8362\n",
            "Epoch 4/10\n",
            "1719/1719 [==============================] - 14s 8ms/step - loss: 0.5447 - accuracy: 0.8191 - val_loss: 0.4666 - val_accuracy: 0.8452\n",
            "Epoch 5/10\n",
            "1719/1719 [==============================] - 14s 8ms/step - loss: 0.5109 - accuracy: 0.8280 - val_loss: 0.4434 - val_accuracy: 0.8536\n",
            "Epoch 6/10\n",
            "1719/1719 [==============================] - 13s 8ms/step - loss: 0.4898 - accuracy: 0.8337 - val_loss: 0.4263 - val_accuracy: 0.8548\n",
            "Epoch 7/10\n",
            "1719/1719 [==============================] - 14s 8ms/step - loss: 0.4712 - accuracy: 0.8396 - val_loss: 0.4130 - val_accuracy: 0.8568\n",
            "Epoch 8/10\n",
            "1719/1719 [==============================] - 13s 8ms/step - loss: 0.4560 - accuracy: 0.8439 - val_loss: 0.4034 - val_accuracy: 0.8608\n",
            "Epoch 9/10\n",
            "1719/1719 [==============================] - 13s 8ms/step - loss: 0.4441 - accuracy: 0.8475 - val_loss: 0.3943 - val_accuracy: 0.8636\n",
            "Epoch 10/10\n",
            "1719/1719 [==============================] - 14s 8ms/step - loss: 0.4333 - accuracy: 0.8507 - val_loss: 0.3874 - val_accuracy: 0.8662\n"
          ]
        }
      ],
      "source": [
        "history = model.fit(X_train, y_train, epochs=10,\n",
        "                    validation_data=(X_valid, y_valid))"
      ]
    },
    {
      "cell_type": "markdown",
      "metadata": {
        "id": "oJhJrZxyd2I5"
      },
      "source": [
        "**Gradient Clipping**"
      ]
    },
    {
      "cell_type": "markdown",
      "metadata": {
        "id": "XGSkrol8d2I6"
      },
      "source": [
        "All Keras optimizers accept `clipnorm` or `clipvalue` arguments:"
      ]
    },
    {
      "cell_type": "code",
      "execution_count": 45,
      "metadata": {
        "id": "4cl6YnMJd2I6"
      },
      "outputs": [],
      "source": [
        "optimizer = keras.optimizers.SGD(clipvalue=1.0)"
      ]
    },
    {
      "cell_type": "code",
      "execution_count": 46,
      "metadata": {
        "id": "cI2Naiyhd2I6"
      },
      "outputs": [],
      "source": [
        "optimizer = keras.optimizers.SGD(clipnorm=1.0)"
      ]
    },
    {
      "cell_type": "markdown",
      "metadata": {
        "id": "ZpRezB4xd2I9"
      },
      "source": [
        "**Optimizers**"
      ]
    },
    {
      "cell_type": "markdown",
      "metadata": {
        "id": "Has0I6o6d2I9"
      },
      "source": [
        "**Momentum optimization**"
      ]
    },
    {
      "cell_type": "code",
      "execution_count": 47,
      "metadata": {
        "id": "OVcG-NPed2I9"
      },
      "outputs": [],
      "source": [
        "optimizer = keras.optimizers.SGD(learning_rate=0.001, momentum=0.9)"
      ]
    },
    {
      "cell_type": "markdown",
      "metadata": {
        "id": "An__M-zgd2I9"
      },
      "source": [
        "**Nesterov Accelerated Gradient**"
      ]
    },
    {
      "cell_type": "code",
      "execution_count": 48,
      "metadata": {
        "id": "6jbRleULd2I9"
      },
      "outputs": [],
      "source": [
        "optimizer = keras.optimizers.SGD(learning_rate=0.001, momentum=0.9, nesterov=True)"
      ]
    },
    {
      "cell_type": "markdown",
      "metadata": {
        "id": "64bxC7_Ed2I9"
      },
      "source": [
        "**AdaGrad**"
      ]
    },
    {
      "cell_type": "code",
      "execution_count": 49,
      "metadata": {
        "id": "3_dp9kSAd2I9"
      },
      "outputs": [],
      "source": [
        "optimizer = keras.optimizers.Adagrad(learning_rate=0.001)"
      ]
    },
    {
      "cell_type": "markdown",
      "metadata": {
        "id": "5d9LxaIVd2I9"
      },
      "source": [
        "**RMSProp**"
      ]
    },
    {
      "cell_type": "code",
      "execution_count": 50,
      "metadata": {
        "id": "Z0JQfU7Ld2I9"
      },
      "outputs": [],
      "source": [
        "optimizer = keras.optimizers.RMSprop(learning_rate=0.001, rho=0.9)"
      ]
    },
    {
      "cell_type": "markdown",
      "metadata": {
        "id": "dd3K6ay4d2I9"
      },
      "source": [
        "**Adam Optimization**"
      ]
    },
    {
      "cell_type": "code",
      "execution_count": 51,
      "metadata": {
        "id": "3Kbv7rPYd2I9"
      },
      "outputs": [],
      "source": [
        "optimizer = keras.optimizers.Adam(learning_rate=0.001, beta_1=0.9, beta_2=0.999)"
      ]
    },
    {
      "cell_type": "markdown",
      "metadata": {
        "id": "MQKdkp5Nd2I9"
      },
      "source": [
        "**Adamax Optimization**"
      ]
    },
    {
      "cell_type": "code",
      "execution_count": 52,
      "metadata": {
        "id": "GMHVCPO2d2I9"
      },
      "outputs": [],
      "source": [
        "optimizer = keras.optimizers.Adamax(learning_rate=0.001, beta_1=0.9, beta_2=0.999)"
      ]
    },
    {
      "cell_type": "markdown",
      "metadata": {
        "id": "vyjxDaHQd2I9"
      },
      "source": [
        "**Nadam Optimization**"
      ]
    },
    {
      "cell_type": "code",
      "execution_count": 53,
      "metadata": {
        "id": "WeGmzjpVd2I9"
      },
      "outputs": [],
      "source": [
        "optimizer = keras.optimizers.Nadam(learning_rate=0.001, beta_1=0.9, beta_2=0.999)"
      ]
    },
    {
      "cell_type": "markdown",
      "metadata": {
        "id": "SwPF8MG-d2I-"
      },
      "source": [
        "**Learning Rate Scheduling**"
      ]
    },
    {
      "cell_type": "markdown",
      "metadata": {
        "id": "WAxOn-HVd2I-"
      },
      "source": [
        "**Power Scheduling**"
      ]
    },
    {
      "cell_type": "markdown",
      "metadata": {
        "id": "NQ1AKzL-d2I-"
      },
      "source": [
        "```lr = lr0 / (1 + steps / s)**c```\n",
        "* Keras uses `c=1` and `s = 1 / decay`"
      ]
    },
    {
      "cell_type": "code",
      "execution_count": 54,
      "metadata": {
        "id": "oCpFNJ_Kd2I-"
      },
      "outputs": [],
      "source": [
        "optimizer = keras.optimizers.SGD(learning_rate=0.01, decay=1e-4)"
      ]
    },
    {
      "cell_type": "code",
      "execution_count": 55,
      "metadata": {
        "id": "4I2yNPOad2I-"
      },
      "outputs": [],
      "source": [
        "model = keras.models.Sequential([\n",
        "    keras.layers.Flatten(input_shape=[28, 28]),\n",
        "    keras.layers.Dense(300, activation=\"selu\", kernel_initializer=\"lecun_normal\"),\n",
        "    keras.layers.Dense(100, activation=\"selu\", kernel_initializer=\"lecun_normal\"),\n",
        "    keras.layers.Dense(10, activation=\"softmax\")\n",
        "])\n",
        "model.compile(loss=\"sparse_categorical_crossentropy\", optimizer=optimizer, metrics=[\"accuracy\"])"
      ]
    },
    {
      "cell_type": "code",
      "execution_count": 56,
      "metadata": {
        "id": "-qF_y8c_d2I-",
        "outputId": "431c1950-eae9-4116-ad91-c2676c3abba6",
        "colab": {
          "base_uri": "https://localhost:8080/"
        }
      },
      "outputs": [
        {
          "output_type": "stream",
          "name": "stdout",
          "text": [
            "Epoch 1/25\n",
            "1719/1719 [==============================] - 9s 5ms/step - loss: 0.4904 - accuracy: 0.8269 - val_loss: 0.4097 - val_accuracy: 0.8586\n",
            "Epoch 2/25\n",
            "1719/1719 [==============================] - 8s 5ms/step - loss: 0.3821 - accuracy: 0.8659 - val_loss: 0.3779 - val_accuracy: 0.8694\n",
            "Epoch 3/25\n",
            "1719/1719 [==============================] - 8s 5ms/step - loss: 0.3498 - accuracy: 0.8757 - val_loss: 0.3806 - val_accuracy: 0.8692\n",
            "Epoch 4/25\n",
            "1719/1719 [==============================] - 8s 5ms/step - loss: 0.3292 - accuracy: 0.8827 - val_loss: 0.3563 - val_accuracy: 0.8780\n",
            "Epoch 5/25\n",
            "1719/1719 [==============================] - 8s 4ms/step - loss: 0.3139 - accuracy: 0.8883 - val_loss: 0.3496 - val_accuracy: 0.8786\n",
            "Epoch 6/25\n",
            "1719/1719 [==============================] - 8s 5ms/step - loss: 0.3002 - accuracy: 0.8932 - val_loss: 0.3478 - val_accuracy: 0.8794\n",
            "Epoch 7/25\n",
            "1719/1719 [==============================] - 10s 6ms/step - loss: 0.2904 - accuracy: 0.8970 - val_loss: 0.3430 - val_accuracy: 0.8836\n",
            "Epoch 8/25\n",
            "1719/1719 [==============================] - 8s 5ms/step - loss: 0.2812 - accuracy: 0.9000 - val_loss: 0.3443 - val_accuracy: 0.8794\n",
            "Epoch 9/25\n",
            "1719/1719 [==============================] - 8s 5ms/step - loss: 0.2730 - accuracy: 0.9035 - val_loss: 0.3364 - val_accuracy: 0.8816\n",
            "Epoch 10/25\n",
            "1719/1719 [==============================] - 8s 4ms/step - loss: 0.2658 - accuracy: 0.9056 - val_loss: 0.3332 - val_accuracy: 0.8834\n",
            "Epoch 11/25\n",
            "1719/1719 [==============================] - 7s 4ms/step - loss: 0.2599 - accuracy: 0.9075 - val_loss: 0.3338 - val_accuracy: 0.8844\n",
            "Epoch 12/25\n",
            "1719/1719 [==============================] - 8s 4ms/step - loss: 0.2541 - accuracy: 0.9109 - val_loss: 0.3398 - val_accuracy: 0.8800\n",
            "Epoch 13/25\n",
            "1719/1719 [==============================] - 8s 4ms/step - loss: 0.2486 - accuracy: 0.9126 - val_loss: 0.3307 - val_accuracy: 0.8834\n",
            "Epoch 14/25\n",
            "1719/1719 [==============================] - 8s 4ms/step - loss: 0.2445 - accuracy: 0.9138 - val_loss: 0.3365 - val_accuracy: 0.8828\n",
            "Epoch 15/25\n",
            "1719/1719 [==============================] - 7s 4ms/step - loss: 0.2396 - accuracy: 0.9157 - val_loss: 0.3293 - val_accuracy: 0.8838\n",
            "Epoch 16/25\n",
            "1719/1719 [==============================] - 8s 5ms/step - loss: 0.2357 - accuracy: 0.9173 - val_loss: 0.3267 - val_accuracy: 0.8848\n",
            "Epoch 17/25\n",
            "1719/1719 [==============================] - 8s 4ms/step - loss: 0.2320 - accuracy: 0.9189 - val_loss: 0.3296 - val_accuracy: 0.8868\n",
            "Epoch 18/25\n",
            "1719/1719 [==============================] - 8s 5ms/step - loss: 0.2281 - accuracy: 0.9209 - val_loss: 0.3255 - val_accuracy: 0.8890\n",
            "Epoch 19/25\n",
            "1719/1719 [==============================] - 8s 5ms/step - loss: 0.2247 - accuracy: 0.9219 - val_loss: 0.3294 - val_accuracy: 0.8850\n",
            "Epoch 20/25\n",
            "1719/1719 [==============================] - 8s 4ms/step - loss: 0.2218 - accuracy: 0.9226 - val_loss: 0.3260 - val_accuracy: 0.8870\n",
            "Epoch 21/25\n",
            "1719/1719 [==============================] - 8s 5ms/step - loss: 0.2182 - accuracy: 0.9246 - val_loss: 0.3265 - val_accuracy: 0.8870\n",
            "Epoch 22/25\n",
            "1719/1719 [==============================] - 8s 4ms/step - loss: 0.2158 - accuracy: 0.9246 - val_loss: 0.3234 - val_accuracy: 0.8878\n",
            "Epoch 23/25\n",
            "1719/1719 [==============================] - 8s 5ms/step - loss: 0.2130 - accuracy: 0.9263 - val_loss: 0.3244 - val_accuracy: 0.8884\n",
            "Epoch 24/25\n",
            "1719/1719 [==============================] - 7s 4ms/step - loss: 0.2102 - accuracy: 0.9268 - val_loss: 0.3258 - val_accuracy: 0.8886\n",
            "Epoch 25/25\n",
            "1719/1719 [==============================] - 8s 4ms/step - loss: 0.2080 - accuracy: 0.9284 - val_loss: 0.3252 - val_accuracy: 0.8874\n"
          ]
        }
      ],
      "source": [
        "n_epochs = 25\n",
        "history = model.fit(X_train_scaled, y_train, epochs=n_epochs,\n",
        "                    validation_data=(X_valid_scaled, y_valid))"
      ]
    },
    {
      "cell_type": "code",
      "execution_count": 57,
      "metadata": {
        "id": "XIIMMIm4d2I-",
        "outputId": "67a69019-85f5-4076-adc0-aa43c8fd1a23",
        "colab": {
          "base_uri": "https://localhost:8080/",
          "height": 303
        }
      },
      "outputs": [
        {
          "output_type": "display_data",
          "data": {
            "text/plain": [
              "<Figure size 432x288 with 1 Axes>"
            ],
            "image/png": "[encoded data removed]"
          },
          "metadata": {
            "needs_background": "light"
          }
        }
      ],
      "source": [
        "import math\n",
        "\n",
        "learning_rate = 0.01\n",
        "decay = 1e-4\n",
        "batch_size = 32\n",
        "n_steps_per_epoch = math.ceil(len(X_train) / batch_size)\n",
        "epochs = np.arange(n_epochs)\n",
        "lrs = learning_rate / (1 + decay * epochs * n_steps_per_epoch)\n",
        "\n",
        "plt.plot(epochs, lrs,  \"o-\")\n",
        "plt.axis([0, n_epochs - 1, 0, 0.01])\n",
        "plt.xlabel(\"Epoch\")\n",
        "plt.ylabel(\"Learning Rate\")\n",
        "plt.title(\"Power Scheduling\", fontsize=14)\n",
        "plt.grid(True)\n",
        "plt.show()"
      ]
    },
    {
      "cell_type": "markdown",
      "metadata": {
        "id": "D8IniWPDd2I-"
      },
      "source": [
        "**Exponential Scheduling**"
      ]
    },
    {
      "cell_type": "markdown",
      "metadata": {
        "id": "Isfe_WAGd2I-"
      },
      "source": [
        "```lr = lr0 * 0.1**(epoch / s)```"
      ]
    },
    {
      "cell_type": "code",
      "execution_count": 58,
      "metadata": {
        "id": "Vp15Fn4Pd2I-"
      },
      "outputs": [],
      "source": [
        "def exponential_decay_fn(epoch):\n",
        "    return 0.01 * 0.1**(epoch / 20)"
      ]
    },
    {
      "cell_type": "code",
      "execution_count": 59,
      "metadata": {
        "id": "spADpBwbd2I-"
      },
      "outputs": [],
      "source": [
        "def exponential_decay(lr0, s):\n",
        "    def exponential_decay_fn(epoch):\n",
        "        return lr0 * 0.1**(epoch / s)\n",
        "    return exponential_decay_fn\n",
        "\n",
        "exponential_decay_fn = exponential_decay(lr0=0.01, s=20)"
      ]
    },
    {
      "cell_type": "code",
      "execution_count": 60,
      "metadata": {
        "id": "58inBG9Md2I-"
      },
      "outputs": [],
      "source": [
        "model = keras.models.Sequential([\n",
        "    keras.layers.Flatten(input_shape=[28, 28]),\n",
        "    keras.layers.Dense(300, activation=\"selu\", kernel_initializer=\"lecun_normal\"),\n",
        "    keras.layers.Dense(100, activation=\"selu\", kernel_initializer=\"lecun_normal\"),\n",
        "    keras.layers.Dense(10, activation=\"softmax\")\n",
        "])\n",
        "model.compile(loss=\"sparse_categorical_crossentropy\", optimizer=\"nadam\", metrics=[\"accuracy\"])\n",
        "n_epochs = 25"
      ]
    },
    {
      "cell_type": "code",
      "execution_count": 61,
      "metadata": {
        "id": "hMTjRx9cd2I-",
        "outputId": "71bfe80f-7d4c-4286-a40e-d905fb72ea1f",
        "colab": {
          "base_uri": "https://localhost:8080/"
        }
      },
      "outputs": [
        {
          "output_type": "stream",
          "name": "stdout",
          "text": [
            "Epoch 1/25\n",
            "1719/1719 [==============================] - 15s 8ms/step - loss: 0.8517 - accuracy: 0.7559 - val_loss: 0.9075 - val_accuracy: 0.7320 - lr: 0.0100\n",
            "Epoch 2/25\n",
            "1719/1719 [==============================] - 14s 8ms/step - loss: 0.7787 - accuracy: 0.7687 - val_loss: 0.8379 - val_accuracy: 0.8070 - lr: 0.0089\n",
            "Epoch 3/25\n",
            "1719/1719 [==============================] - 14s 8ms/step - loss: 0.6808 - accuracy: 0.7917 - val_loss: 0.7336 - val_accuracy: 0.7832 - lr: 0.0079\n",
            "Epoch 4/25\n",
            "1719/1719 [==============================] - 14s 8ms/step - loss: 0.5639 - accuracy: 0.8288 - val_loss: 0.5345 - val_accuracy: 0.8432 - lr: 0.0071\n",
            "Epoch 5/25\n",
            "1719/1719 [==============================] - 14s 8ms/step - loss: 0.5325 - accuracy: 0.8385 - val_loss: 0.5295 - val_accuracy: 0.8448 - lr: 0.0063\n",
            "Epoch 6/25\n",
            "1719/1719 [==============================] - 14s 8ms/step - loss: 0.4622 - accuracy: 0.8571 - val_loss: 0.4782 - val_accuracy: 0.8594 - lr: 0.0056\n",
            "Epoch 7/25\n",
            "1719/1719 [==============================] - 14s 8ms/step - loss: 0.4339 - accuracy: 0.8667 - val_loss: 0.5133 - val_accuracy: 0.8590 - lr: 0.0050\n",
            "Epoch 8/25\n",
            "1719/1719 [==============================] - 15s 8ms/step - loss: 0.3915 - accuracy: 0.8769 - val_loss: 0.5536 - val_accuracy: 0.8384 - lr: 0.0045\n",
            "Epoch 9/25\n",
            "1719/1719 [==============================] - 15s 9ms/step - loss: 0.3718 - accuracy: 0.8836 - val_loss: 0.4759 - val_accuracy: 0.8398 - lr: 0.0040\n",
            "Epoch 10/25\n",
            "1719/1719 [==============================] - 15s 9ms/step - loss: 0.3260 - accuracy: 0.8926 - val_loss: 0.4348 - val_accuracy: 0.8742 - lr: 0.0035\n",
            "Epoch 11/25\n",
            "1719/1719 [==============================] - 15s 9ms/step - loss: 0.3194 - accuracy: 0.8975 - val_loss: 0.4420 - val_accuracy: 0.8746 - lr: 0.0032\n",
            "Epoch 12/25\n",
            "1719/1719 [==============================] - 15s 9ms/step - loss: 0.2825 - accuracy: 0.9050 - val_loss: 0.4568 - val_accuracy: 0.8714 - lr: 0.0028\n",
            "Epoch 13/25\n",
            "1719/1719 [==============================] - 15s 9ms/step - loss: 0.2661 - accuracy: 0.9116 - val_loss: 0.4662 - val_accuracy: 0.8772 - lr: 0.0025\n",
            "Epoch 14/25\n",
            "1719/1719 [==============================] - 16s 9ms/step - loss: 0.2438 - accuracy: 0.9175 - val_loss: 0.4443 - val_accuracy: 0.8834 - lr: 0.0022\n",
            "Epoch 15/25\n",
            "1719/1719 [==============================] - 16s 9ms/step - loss: 0.2290 - accuracy: 0.9230 - val_loss: 0.4435 - val_accuracy: 0.8812 - lr: 0.0020\n",
            "Epoch 16/25\n",
            "1719/1719 [==============================] - 16s 9ms/step - loss: 0.2080 - accuracy: 0.9292 - val_loss: 0.4485 - val_accuracy: 0.8860 - lr: 0.0018\n",
            "Epoch 17/25\n",
            "1719/1719 [==============================] - 15s 9ms/step - loss: 0.1945 - accuracy: 0.9323 - val_loss: 0.4922 - val_accuracy: 0.8798 - lr: 0.0016\n",
            "Epoch 18/25\n",
            "1719/1719 [==============================] - 15s 9ms/step - loss: 0.1795 - accuracy: 0.9379 - val_loss: 0.4872 - val_accuracy: 0.8830 - lr: 0.0014\n",
            "Epoch 19/25\n",
            "1719/1719 [==============================] - 15s 8ms/step - loss: 0.1652 - accuracy: 0.9428 - val_loss: 0.4360 - val_accuracy: 0.8944 - lr: 0.0013\n",
            "Epoch 20/25\n",
            "1719/1719 [==============================] - 14s 8ms/step - loss: 0.1518 - accuracy: 0.9477 - val_loss: 0.4879 - val_accuracy: 0.8878 - lr: 0.0011\n",
            "Epoch 21/25\n",
            "1719/1719 [==============================] - 14s 8ms/step - loss: 0.1416 - accuracy: 0.9517 - val_loss: 0.4953 - val_accuracy: 0.8862 - lr: 0.0010\n",
            "Epoch 22/25\n",
            "1719/1719 [==============================] - 14s 8ms/step - loss: 0.1296 - accuracy: 0.9555 - val_loss: 0.5379 - val_accuracy: 0.8890 - lr: 8.9125e-04\n",
            "Epoch 23/25\n",
            "1719/1719 [==============================] - 14s 8ms/step - loss: 0.1218 - accuracy: 0.9597 - val_loss: 0.5206 - val_accuracy: 0.8880 - lr: 7.9433e-04\n",
            "Epoch 24/25\n",
            "1719/1719 [==============================] - 15s 9ms/step - loss: 0.1129 - accuracy: 0.9619 - val_loss: 0.5663 - val_accuracy: 0.8892 - lr: 7.0795e-04\n",
            "Epoch 25/25\n",
            "1719/1719 [==============================] - 16s 9ms/step - loss: 0.1034 - accuracy: 0.9655 - val_loss: 0.5815 - val_accuracy: 0.8872 - lr: 6.3096e-04\n"
          ]
        }
      ],
      "source": [
        "lr_scheduler = keras.callbacks.LearningRateScheduler(exponential_decay_fn)\n",
        "history = model.fit(X_train_scaled, y_train, epochs=n_epochs,\n",
        "                    validation_data=(X_valid_scaled, y_valid),\n",
        "                    callbacks=[lr_scheduler])"
      ]
    },
    {
      "cell_type": "code",
      "execution_count": 62,
      "metadata": {
        "id": "vRrqUqWid2I-",
        "outputId": "d0c2cbb3-8e91-40c6-a6e5-9228fe51424a",
        "colab": {
          "base_uri": "https://localhost:8080/",
          "height": 303
        }
      },
      "outputs": [
        {
          "output_type": "display_data",
          "data": {
            "text/plain": [
              "<Figure size 432x288 with 1 Axes>"
            ],
            "image/png": "[encoded data removed]"
          },
          "metadata": {
            "needs_background": "light"
          }
        }
      ],
      "source": [
        "plt.plot(history.epoch, history.history[\"lr\"], \"o-\")\n",
        "plt.axis([0, n_epochs - 1, 0, 0.011])\n",
        "plt.xlabel(\"Epoch\")\n",
        "plt.ylabel(\"Learning Rate\")\n",
        "plt.title(\"Exponential Scheduling\", fontsize=14)\n",
        "plt.grid(True)\n",
        "plt.show()"
      ]
    },
    {
      "cell_type": "markdown",
      "metadata": {
        "id": "OaKZQuNzd2I-"
      },
      "source": [
        "The schedule function can take the current learning rate as a second argument:"
      ]
    },
    {
      "cell_type": "code",
      "execution_count": 63,
      "metadata": {
        "id": "kgb10Ybqd2I-"
      },
      "outputs": [],
      "source": [
        "def exponential_decay_fn(epoch, lr):\n",
        "    return lr * 0.1**(1 / 20)"
      ]
    },
    {
      "cell_type": "markdown",
      "metadata": {
        "id": "ZSKBTroNd2I-"
      },
      "source": [
        "If you want to update the learning rate at each iteration rather than at each epoch, you must write your own callback class:"
      ]
    },
    {
      "cell_type": "code",
      "execution_count": 64,
      "metadata": {
        "id": "nLxUmRo-d2I-",
        "outputId": "eb3fe532-d575-49f3-fc10-2d4d6654c24f",
        "colab": {
          "base_uri": "https://localhost:8080/"
        }
      },
      "outputs": [
        {
          "output_type": "stream",
          "name": "stdout",
          "text": [
            "Epoch 1/25\n",
            "1719/1719 [==============================] - 17s 10ms/step - loss: 0.7965 - accuracy: 0.7648 - val_loss: 0.6834 - val_accuracy: 0.8020 - lr: 0.0089\n",
            "Epoch 2/25\n",
            "1719/1719 [==============================] - 17s 10ms/step - loss: 0.6950 - accuracy: 0.7953 - val_loss: 0.5449 - val_accuracy: 0.8384 - lr: 0.0079\n",
            "Epoch 3/25\n",
            "1719/1719 [==============================] - 16s 9ms/step - loss: 0.6285 - accuracy: 0.8143 - val_loss: 0.9357 - val_accuracy: 0.7404 - lr: 0.0071\n",
            "Epoch 4/25\n",
            "1719/1719 [==============================] - 16s 9ms/step - loss: 0.5670 - accuracy: 0.8268 - val_loss: 0.6008 - val_accuracy: 0.8392 - lr: 0.0063\n",
            "Epoch 5/25\n",
            "1719/1719 [==============================] - 15s 9ms/step - loss: 0.5165 - accuracy: 0.8442 - val_loss: 0.5465 - val_accuracy: 0.8530 - lr: 0.0056\n",
            "Epoch 6/25\n",
            "1719/1719 [==============================] - 15s 9ms/step - loss: 0.4839 - accuracy: 0.8508 - val_loss: 0.4905 - val_accuracy: 0.8562 - lr: 0.0050\n",
            "Epoch 7/25\n",
            "1719/1719 [==============================] - 15s 9ms/step - loss: 0.4495 - accuracy: 0.8621 - val_loss: 0.5675 - val_accuracy: 0.8570 - lr: 0.0045\n",
            "Epoch 8/25\n",
            "1719/1719 [==============================] - 15s 9ms/step - loss: 0.4040 - accuracy: 0.8732 - val_loss: 0.5277 - val_accuracy: 0.8536 - lr: 0.0040\n",
            "Epoch 9/25\n",
            "1719/1719 [==============================] - 15s 9ms/step - loss: 0.3756 - accuracy: 0.8809 - val_loss: 0.4769 - val_accuracy: 0.8706 - lr: 0.0035\n",
            "Epoch 10/25\n",
            "1719/1719 [==============================] - 15s 9ms/step - loss: 0.3489 - accuracy: 0.8872 - val_loss: 0.5178 - val_accuracy: 0.8688 - lr: 0.0032\n",
            "Epoch 11/25\n",
            "1719/1719 [==============================] - 15s 9ms/step - loss: 0.3390 - accuracy: 0.8935 - val_loss: 0.5102 - val_accuracy: 0.8640 - lr: 0.0028\n",
            "Epoch 12/25\n",
            "1719/1719 [==============================] - 15s 9ms/step - loss: 0.3087 - accuracy: 0.8988 - val_loss: 0.4836 - val_accuracy: 0.8650 - lr: 0.0025\n",
            "Epoch 13/25\n",
            "1719/1719 [==============================] - 15s 9ms/step - loss: 0.2946 - accuracy: 0.9038 - val_loss: 0.4717 - val_accuracy: 0.8726 - lr: 0.0022\n",
            "Epoch 14/25\n",
            "1719/1719 [==============================] - 15s 9ms/step - loss: 0.2778 - accuracy: 0.9097 - val_loss: 0.5044 - val_accuracy: 0.8740 - lr: 0.0020\n",
            "Epoch 15/25\n",
            "1719/1719 [==============================] - 15s 9ms/step - loss: 0.2631 - accuracy: 0.9139 - val_loss: 0.4716 - val_accuracy: 0.8810 - lr: 0.0018\n",
            "Epoch 16/25\n",
            "1719/1719 [==============================] - 15s 9ms/step - loss: 0.2506 - accuracy: 0.9181 - val_loss: 0.4873 - val_accuracy: 0.8768 - lr: 0.0016\n",
            "Epoch 17/25\n",
            "1719/1719 [==============================] - 15s 9ms/step - loss: 0.2352 - accuracy: 0.9230 - val_loss: 0.5176 - val_accuracy: 0.8736 - lr: 0.0014\n",
            "Epoch 18/25\n",
            "1719/1719 [==============================] - 15s 9ms/step - loss: 0.2222 - accuracy: 0.9269 - val_loss: 0.4712 - val_accuracy: 0.8718 - lr: 0.0013\n",
            "Epoch 19/25\n",
            "1719/1719 [==============================] - 15s 9ms/step - loss: 0.2086 - accuracy: 0.9310 - val_loss: 0.5058 - val_accuracy: 0.8782 - lr: 0.0011\n",
            "Epoch 20/25\n",
            "1719/1719 [==============================] - 15s 9ms/step - loss: 0.1992 - accuracy: 0.9348 - val_loss: 0.5131 - val_accuracy: 0.8806 - lr: 9.9967e-04\n",
            "Epoch 21/25\n",
            "1719/1719 [==============================] - 15s 9ms/step - loss: 0.1894 - accuracy: 0.9390 - val_loss: 0.5594 - val_accuracy: 0.8752 - lr: 8.9094e-04\n",
            "Epoch 22/25\n",
            "1719/1719 [==============================] - 18s 10ms/step - loss: 0.1811 - accuracy: 0.9407 - val_loss: 0.5413 - val_accuracy: 0.8814 - lr: 7.9404e-04\n",
            "Epoch 23/25\n",
            "1719/1719 [==============================] - 16s 9ms/step - loss: 0.1752 - accuracy: 0.9435 - val_loss: 0.5449 - val_accuracy: 0.8804 - lr: 7.0767e-04\n",
            "Epoch 24/25\n",
            "1719/1719 [==============================] - 16s 9ms/step - loss: 0.1658 - accuracy: 0.9479 - val_loss: 0.5737 - val_accuracy: 0.8792 - lr: 6.3071e-04\n",
            "Epoch 25/25\n",
            "1719/1719 [==============================] - 15s 9ms/step - loss: 0.1590 - accuracy: 0.9498 - val_loss: 0.5796 - val_accuracy: 0.8824 - lr: 5.6211e-04\n"
          ]
        }
      ],
      "source": [
        "K = keras.backend\n",
        "\n",
        "class ExponentialDecay(keras.callbacks.Callback):\n",
        "    def __init__(self, s=40000):\n",
        "        super().__init__()\n",
        "        self.s = s\n",
        "\n",
        "    def on_batch_begin(self, batch, logs=None):\n",
        "        # Note: the `batch` argument is reset at each epoch\n",
        "        lr = K.get_value(self.model.optimizer.learning_rate)\n",
        "        K.set_value(self.model.optimizer.learning_rate, lr * 0.1**(1 / self.s))\n",
        "\n",
        "    def on_epoch_end(self, epoch, logs=None):\n",
        "        logs = logs or {}\n",
        "        logs['lr'] = K.get_value(self.model.optimizer.learning_rate)\n",
        "\n",
        "model = keras.models.Sequential([\n",
        "    keras.layers.Flatten(input_shape=[28, 28]),\n",
        "    keras.layers.Dense(300, activation=\"selu\", kernel_initializer=\"lecun_normal\"),\n",
        "    keras.layers.Dense(100, activation=\"selu\", kernel_initializer=\"lecun_normal\"),\n",
        "    keras.layers.Dense(10, activation=\"softmax\")\n",
        "])\n",
        "lr0 = 0.01\n",
        "optimizer = keras.optimizers.Nadam(learning_rate=lr0)\n",
        "model.compile(loss=\"sparse_categorical_crossentropy\", optimizer=optimizer, metrics=[\"accuracy\"])\n",
        "n_epochs = 25\n",
        "\n",
        "s = 20 * len(X_train) // 32 # number of steps in 20 epochs (batch size = 32)\n",
        "exp_decay = ExponentialDecay(s)\n",
        "history = model.fit(X_train_scaled, y_train, epochs=n_epochs,\n",
        "                    validation_data=(X_valid_scaled, y_valid),\n",
        "                    callbacks=[exp_decay])"
      ]
    },
    {
      "cell_type": "code",
      "execution_count": 65,
      "metadata": {
        "id": "cMSYM6y8d2I_"
      },
      "outputs": [],
      "source": [
        "n_steps = n_epochs * len(X_train) // 32\n",
        "steps = np.arange(n_steps)\n",
        "lrs = lr0 * 0.1**(steps / s)"
      ]
    },
    {
      "cell_type": "code",
      "execution_count": 66,
      "metadata": {
        "scrolled": true,
        "id": "QSd5jhHMd2I_",
        "outputId": "93c67231-4c29-46a6-e70f-fcecef1caff0",
        "colab": {
          "base_uri": "https://localhost:8080/",
          "height": 303
        }
      },
      "outputs": [
        {
          "output_type": "display_data",
          "data": {
            "text/plain": [
              "<Figure size 432x288 with 1 Axes>"
            ],
            "image/png": "[encoded data removed]"
          },
          "metadata": {
            "needs_background": "light"
          }
        }
      ],
      "source": [
        "plt.plot(steps, lrs, \"-\", linewidth=2)\n",
        "plt.axis([0, n_steps - 1, 0, lr0 * 1.1])\n",
        "plt.xlabel(\"Batch\")\n",
        "plt.ylabel(\"Learning Rate\")\n",
        "plt.title(\"Exponential Scheduling (per batch)\", fontsize=14)\n",
        "plt.grid(True)\n",
        "plt.show()"
      ]
    },
    {
      "cell_type": "markdown",
      "metadata": {
        "id": "W96qExiPd2I_"
      },
      "source": [
        "**Piecewise Constant Scheduling**"
      ]
    },
    {
      "cell_type": "code",
      "execution_count": 67,
      "metadata": {
        "id": "dyBS8L8bd2I_"
      },
      "outputs": [],
      "source": [
        "def piecewise_constant_fn(epoch):\n",
        "    if epoch < 5:\n",
        "        return 0.01\n",
        "    elif epoch < 15:\n",
        "        return 0.005\n",
        "    else:\n",
        "        return 0.001"
      ]
    },
    {
      "cell_type": "code",
      "execution_count": 68,
      "metadata": {
        "id": "PFsFAWARd2I_"
      },
      "outputs": [],
      "source": [
        "def piecewise_constant(boundaries, values):\n",
        "    boundaries = np.array([0] + boundaries)\n",
        "    values = np.array(values)\n",
        "    def piecewise_constant_fn(epoch):\n",
        "        return values[np.argmax(boundaries > epoch) - 1]\n",
        "    return piecewise_constant_fn\n",
        "\n",
        "piecewise_constant_fn = piecewise_constant([5, 15], [0.01, 0.005, 0.001])"
      ]
    },
    {
      "cell_type": "code",
      "execution_count": 69,
      "metadata": {
        "id": "VGbvzmvqd2I_",
        "outputId": "c423d9ce-6a67-4e31-fcf3-821f925b15c1",
        "colab": {
          "base_uri": "https://localhost:8080/"
        }
      },
      "outputs": [
        {
          "output_type": "stream",
          "name": "stdout",
          "text": [
            "Epoch 1/25\n",
            "1719/1719 [==============================] - 15s 8ms/step - loss: 0.8286 - accuracy: 0.7623 - val_loss: 0.9734 - val_accuracy: 0.7128 - lr: 0.0100\n",
            "Epoch 2/25\n",
            "1719/1719 [==============================] - 14s 8ms/step - loss: 0.8418 - accuracy: 0.7533 - val_loss: 0.8721 - val_accuracy: 0.7604 - lr: 0.0100\n",
            "Epoch 3/25\n",
            "1719/1719 [==============================] - 14s 8ms/step - loss: 0.8128 - accuracy: 0.7693 - val_loss: 1.2051 - val_accuracy: 0.6322 - lr: 0.0100\n",
            "Epoch 4/25\n",
            "1719/1719 [==============================] - 14s 8ms/step - loss: 0.8872 - accuracy: 0.7563 - val_loss: 0.9807 - val_accuracy: 0.7426 - lr: 0.0100\n",
            "Epoch 5/25\n",
            "1719/1719 [==============================] - 14s 8ms/step - loss: 0.7762 - accuracy: 0.7832 - val_loss: 1.0048 - val_accuracy: 0.7440 - lr: 0.0100\n",
            "Epoch 6/25\n",
            "1719/1719 [==============================] - 15s 9ms/step - loss: 0.5127 - accuracy: 0.8471 - val_loss: 0.5807 - val_accuracy: 0.8572 - lr: 0.0050\n",
            "Epoch 7/25\n",
            "1719/1719 [==============================] - 15s 9ms/step - loss: 0.4657 - accuracy: 0.8600 - val_loss: 0.6430 - val_accuracy: 0.8522 - lr: 0.0050\n",
            "Epoch 8/25\n",
            "1719/1719 [==============================] - 14s 8ms/step - loss: 0.4756 - accuracy: 0.8590 - val_loss: 0.6392 - val_accuracy: 0.8334 - lr: 0.0050\n",
            "Epoch 9/25\n",
            "1719/1719 [==============================] - 14s 8ms/step - loss: 0.4431 - accuracy: 0.8657 - val_loss: 0.6570 - val_accuracy: 0.8260 - lr: 0.0050\n",
            "Epoch 10/25\n",
            "1719/1719 [==============================] - 15s 8ms/step - loss: 0.4408 - accuracy: 0.8712 - val_loss: 0.5621 - val_accuracy: 0.8716 - lr: 0.0050\n",
            "Epoch 11/25\n",
            "1719/1719 [==============================] - 14s 8ms/step - loss: 0.4108 - accuracy: 0.8767 - val_loss: 0.5972 - val_accuracy: 0.8590 - lr: 0.0050\n",
            "Epoch 12/25\n",
            "1719/1719 [==============================] - 14s 8ms/step - loss: 0.4337 - accuracy: 0.8763 - val_loss: 0.5786 - val_accuracy: 0.8576 - lr: 0.0050\n",
            "Epoch 13/25\n",
            "1719/1719 [==============================] - 14s 8ms/step - loss: 0.4230 - accuracy: 0.8786 - val_loss: 0.7324 - val_accuracy: 0.8518 - lr: 0.0050\n",
            "Epoch 14/25\n",
            "1719/1719 [==============================] - 14s 8ms/step - loss: 0.4206 - accuracy: 0.8800 - val_loss: 0.5609 - val_accuracy: 0.8610 - lr: 0.0050\n",
            "Epoch 15/25\n",
            "1719/1719 [==============================] - 14s 8ms/step - loss: 0.3942 - accuracy: 0.8835 - val_loss: 0.6397 - val_accuracy: 0.8648 - lr: 0.0050\n",
            "Epoch 16/25\n",
            "1719/1719 [==============================] - 14s 8ms/step - loss: 0.2727 - accuracy: 0.9151 - val_loss: 0.4657 - val_accuracy: 0.8882 - lr: 0.0010\n",
            "Epoch 17/25\n",
            "1719/1719 [==============================] - 14s 8ms/step - loss: 0.2487 - accuracy: 0.9208 - val_loss: 0.4962 - val_accuracy: 0.8844 - lr: 0.0010\n",
            "Epoch 18/25\n",
            "1719/1719 [==============================] - 15s 9ms/step - loss: 0.2406 - accuracy: 0.9230 - val_loss: 0.4987 - val_accuracy: 0.8854 - lr: 0.0010\n",
            "Epoch 19/25\n",
            "1719/1719 [==============================] - 15s 9ms/step - loss: 0.2288 - accuracy: 0.9258 - val_loss: 0.5235 - val_accuracy: 0.8872 - lr: 0.0010\n",
            "Epoch 20/25\n",
            "1719/1719 [==============================] - 15s 8ms/step - loss: 0.2211 - accuracy: 0.9282 - val_loss: 0.5424 - val_accuracy: 0.8852 - lr: 0.0010\n",
            "Epoch 21/25\n",
            "1719/1719 [==============================] - 15s 9ms/step - loss: 0.2162 - accuracy: 0.9318 - val_loss: 0.5583 - val_accuracy: 0.8860 - lr: 0.0010\n",
            "Epoch 22/25\n",
            "1719/1719 [==============================] - 16s 9ms/step - loss: 0.2077 - accuracy: 0.9346 - val_loss: 0.5679 - val_accuracy: 0.8826 - lr: 0.0010\n",
            "Epoch 23/25\n",
            "1719/1719 [==============================] - 15s 9ms/step - loss: 0.2003 - accuracy: 0.9371 - val_loss: 0.6173 - val_accuracy: 0.8802 - lr: 0.0010\n",
            "Epoch 24/25\n",
            "1719/1719 [==============================] - 15s 9ms/step - loss: 0.1971 - accuracy: 0.9384 - val_loss: 0.5710 - val_accuracy: 0.8856 - lr: 0.0010\n",
            "Epoch 25/25\n",
            "1719/1719 [==============================] - 15s 9ms/step - loss: 0.1886 - accuracy: 0.9409 - val_loss: 0.6333 - val_accuracy: 0.8874 - lr: 0.0010\n"
          ]
        }
      ],
      "source": [
        "lr_scheduler = keras.callbacks.LearningRateScheduler(piecewise_constant_fn)\n",
        "\n",
        "model = keras.models.Sequential([\n",
        "    keras.layers.Flatten(input_shape=[28, 28]),\n",
        "    keras.layers.Dense(300, activation=\"selu\", kernel_initializer=\"lecun_normal\"),\n",
        "    keras.layers.Dense(100, activation=\"selu\", kernel_initializer=\"lecun_normal\"),\n",
        "    keras.layers.Dense(10, activation=\"softmax\")\n",
        "])\n",
        "model.compile(loss=\"sparse_categorical_crossentropy\", optimizer=\"nadam\", metrics=[\"accuracy\"])\n",
        "n_epochs = 25\n",
        "history = model.fit(X_train_scaled, y_train, epochs=n_epochs,\n",
        "                    validation_data=(X_valid_scaled, y_valid),\n",
        "                    callbacks=[lr_scheduler])"
      ]
    },
    {
      "cell_type": "code",
      "execution_count": 70,
      "metadata": {
        "id": "CW_jbE2kd2I_",
        "outputId": "e717140d-0ef7-4526-f378-840c5a4b5545",
        "colab": {
          "base_uri": "https://localhost:8080/",
          "height": 303
        }
      },
      "outputs": [
        {
          "output_type": "display_data",
          "data": {
            "text/plain": [
              "<Figure size 432x288 with 1 Axes>"
            ],
            "image/png": "[encoded data removed]"
          },
          "metadata": {
            "needs_background": "light"
          }
        }
      ],
      "source": [
        "plt.plot(history.epoch, [piecewise_constant_fn(epoch) for epoch in history.epoch], \"o-\")\n",
        "plt.axis([0, n_epochs - 1, 0, 0.011])\n",
        "plt.xlabel(\"Epoch\")\n",
        "plt.ylabel(\"Learning Rate\")\n",
        "plt.title(\"Piecewise Constant Scheduling\", fontsize=14)\n",
        "plt.grid(True)\n",
        "plt.show()"
      ]
    },
    {
      "cell_type": "markdown",
      "metadata": {
        "id": "Yc_iuxEwd2I_"
      },
      "source": [
        "**Performance Scheduling**"
      ]
    },
    {
      "cell_type": "code",
      "execution_count": 71,
      "metadata": {
        "id": "vcJ-1UVMd2I_"
      },
      "outputs": [],
      "source": [
        "tf.random.set_seed(42)\n",
        "np.random.seed(42)"
      ]
    },
    {
      "cell_type": "code",
      "execution_count": 72,
      "metadata": {
        "id": "Uv_gbVKId2I_",
        "outputId": "40097ca3-abb1-49b8-a191-2622985c716f",
        "colab": {
          "base_uri": "https://localhost:8080/"
        }
      },
      "outputs": [
        {
          "output_type": "stream",
          "name": "stdout",
          "text": [
            "Epoch 1/25\n",
            "1719/1719 [==============================] - 10s 5ms/step - loss: 0.5908 - accuracy: 0.8070 - val_loss: 0.4863 - val_accuracy: 0.8474 - lr: 0.0200\n",
            "Epoch 2/25\n",
            "1719/1719 [==============================] - 9s 5ms/step - loss: 0.4939 - accuracy: 0.8393 - val_loss: 0.6034 - val_accuracy: 0.8374 - lr: 0.0200\n",
            "Epoch 3/25\n",
            "1719/1719 [==============================] - 9s 5ms/step - loss: 0.5016 - accuracy: 0.8439 - val_loss: 0.4986 - val_accuracy: 0.8544 - lr: 0.0200\n",
            "Epoch 4/25\n",
            "1719/1719 [==============================] - 9s 5ms/step - loss: 0.5030 - accuracy: 0.8486 - val_loss: 0.5206 - val_accuracy: 0.8588 - lr: 0.0200\n",
            "Epoch 5/25\n",
            "1719/1719 [==============================] - 9s 5ms/step - loss: 0.5136 - accuracy: 0.8504 - val_loss: 0.4708 - val_accuracy: 0.8560 - lr: 0.0200\n",
            "Epoch 6/25\n",
            "1719/1719 [==============================] - 8s 5ms/step - loss: 0.5028 - accuracy: 0.8559 - val_loss: 0.5840 - val_accuracy: 0.8518 - lr: 0.0200\n",
            "Epoch 7/25\n",
            "1719/1719 [==============================] - 8s 5ms/step - loss: 0.5166 - accuracy: 0.8557 - val_loss: 0.5435 - val_accuracy: 0.8446 - lr: 0.0200\n",
            "Epoch 8/25\n",
            "1719/1719 [==============================] - 9s 5ms/step - loss: 0.5143 - accuracy: 0.8575 - val_loss: 0.7547 - val_accuracy: 0.8116 - lr: 0.0200\n",
            "Epoch 9/25\n",
            "1719/1719 [==============================] - 8s 5ms/step - loss: 0.5324 - accuracy: 0.8549 - val_loss: 0.7432 - val_accuracy: 0.8218 - lr: 0.0200\n",
            "Epoch 10/25\n",
            "1719/1719 [==============================] - 9s 5ms/step - loss: 0.5493 - accuracy: 0.8551 - val_loss: 0.8416 - val_accuracy: 0.8510 - lr: 0.0200\n",
            "Epoch 11/25\n",
            "1719/1719 [==============================] - 8s 5ms/step - loss: 0.3009 - accuracy: 0.8971 - val_loss: 0.4460 - val_accuracy: 0.8766 - lr: 0.0100\n",
            "Epoch 12/25\n",
            "1719/1719 [==============================] - 9s 5ms/step - loss: 0.2560 - accuracy: 0.9092 - val_loss: 0.5003 - val_accuracy: 0.8666 - lr: 0.0100\n",
            "Epoch 13/25\n",
            "1719/1719 [==============================] - 8s 5ms/step - loss: 0.2250 - accuracy: 0.9177 - val_loss: 0.4521 - val_accuracy: 0.8800 - lr: 0.0100\n",
            "Epoch 14/25\n",
            "1719/1719 [==============================] - 9s 5ms/step - loss: 0.2115 - accuracy: 0.9233 - val_loss: 0.4812 - val_accuracy: 0.8778 - lr: 0.0100\n",
            "Epoch 15/25\n",
            "1719/1719 [==============================] - 8s 5ms/step - loss: 0.2035 - accuracy: 0.9259 - val_loss: 0.4526 - val_accuracy: 0.8878 - lr: 0.0100\n",
            "Epoch 16/25\n",
            "1719/1719 [==============================] - 9s 5ms/step - loss: 0.1886 - accuracy: 0.9299 - val_loss: 0.5097 - val_accuracy: 0.8884 - lr: 0.0100\n",
            "Epoch 17/25\n",
            "1719/1719 [==============================] - 8s 4ms/step - loss: 0.1323 - accuracy: 0.9486 - val_loss: 0.4773 - val_accuracy: 0.8888 - lr: 0.0050\n",
            "Epoch 18/25\n",
            "1719/1719 [==============================] - 8s 5ms/step - loss: 0.1184 - accuracy: 0.9533 - val_loss: 0.4903 - val_accuracy: 0.8900 - lr: 0.0050\n",
            "Epoch 19/25\n",
            "1719/1719 [==============================] - 8s 5ms/step - loss: 0.1095 - accuracy: 0.9576 - val_loss: 0.5034 - val_accuracy: 0.8918 - lr: 0.0050\n",
            "Epoch 20/25\n",
            "1719/1719 [==============================] - 10s 6ms/step - loss: 0.1031 - accuracy: 0.9598 - val_loss: 0.5103 - val_accuracy: 0.8952 - lr: 0.0050\n",
            "Epoch 21/25\n",
            "1719/1719 [==============================] - 8s 5ms/step - loss: 0.0967 - accuracy: 0.9613 - val_loss: 0.5480 - val_accuracy: 0.8934 - lr: 0.0050\n",
            "Epoch 22/25\n",
            "1719/1719 [==============================] - 8s 5ms/step - loss: 0.0784 - accuracy: 0.9694 - val_loss: 0.5436 - val_accuracy: 0.8960 - lr: 0.0025\n",
            "Epoch 23/25\n",
            "1719/1719 [==============================] - 8s 5ms/step - loss: 0.0728 - accuracy: 0.9719 - val_loss: 0.5420 - val_accuracy: 0.8936 - lr: 0.0025\n",
            "Epoch 24/25\n",
            "1719/1719 [==============================] - 8s 5ms/step - loss: 0.0687 - accuracy: 0.9740 - val_loss: 0.5517 - val_accuracy: 0.8948 - lr: 0.0025\n",
            "Epoch 25/25\n",
            "1719/1719 [==============================] - 8s 5ms/step - loss: 0.0661 - accuracy: 0.9751 - val_loss: 0.5570 - val_accuracy: 0.8948 - lr: 0.0025\n"
          ]
        }
      ],
      "source": [
        "lr_scheduler = keras.callbacks.ReduceLROnPlateau(factor=0.5, patience=5)\n",
        "\n",
        "model = keras.models.Sequential([\n",
        "    keras.layers.Flatten(input_shape=[28, 28]),\n",
        "    keras.layers.Dense(300, activation=\"selu\", kernel_initializer=\"lecun_normal\"),\n",
        "    keras.layers.Dense(100, activation=\"selu\", kernel_initializer=\"lecun_normal\"),\n",
        "    keras.layers.Dense(10, activation=\"softmax\")\n",
        "])\n",
        "optimizer = keras.optimizers.SGD(learning_rate=0.02, momentum=0.9)\n",
        "model.compile(loss=\"sparse_categorical_crossentropy\", optimizer=optimizer, metrics=[\"accuracy\"])\n",
        "n_epochs = 25\n",
        "history = model.fit(X_train_scaled, y_train, epochs=n_epochs,\n",
        "                    validation_data=(X_valid_scaled, y_valid),\n",
        "                    callbacks=[lr_scheduler])"
      ]
    },
    {
      "cell_type": "code",
      "execution_count": 73,
      "metadata": {
        "id": "JvJ2ApjUd2I_",
        "outputId": "9229d18d-55a0-4fac-c595-99972ec63d5a",
        "colab": {
          "base_uri": "https://localhost:8080/",
          "height": 303
        }
      },
      "outputs": [
        {
          "output_type": "display_data",
          "data": {
            "text/plain": [
              "<Figure size 432x288 with 2 Axes>"
            ],
            "image/png": "[encoded data removed]"
          },
          "metadata": {
            "needs_background": "light"
          }
        }
      ],
      "source": [
        "plt.plot(history.epoch, history.history[\"lr\"], \"bo-\")\n",
        "plt.xlabel(\"Epoch\")\n",
        "plt.ylabel(\"Learning Rate\", color='b')\n",
        "plt.tick_params('y', colors='b')\n",
        "plt.gca().set_xlim(0, n_epochs - 1)\n",
        "plt.grid(True)\n",
        "\n",
        "ax2 = plt.gca().twinx()\n",
        "ax2.plot(history.epoch, history.history[\"val_loss\"], \"r^-\")\n",
        "ax2.set_ylabel('Validation Loss', color='r')\n",
        "ax2.tick_params('y', colors='r')\n",
        "\n",
        "plt.title(\"Reduce LR on Plateau\", fontsize=14)\n",
        "plt.show()"
      ]
    },
    {
      "cell_type": "markdown",
      "metadata": {
        "id": "lXXbinvWd2I_"
      },
      "source": [
        "**tf.keras schedulers**"
      ]
    },
    {
      "cell_type": "code",
      "execution_count": 74,
      "metadata": {
        "id": "p_pa3hjYd2I_",
        "outputId": "719ea506-5146-44f3-96a0-964d4bb6f616",
        "colab": {
          "base_uri": "https://localhost:8080/"
        }
      },
      "outputs": [
        {
          "output_type": "stream",
          "name": "stdout",
          "text": [
            "Epoch 1/25\n",
            "1719/1719 [==============================] - 8s 4ms/step - loss: 0.4894 - accuracy: 0.8273 - val_loss: 0.4096 - val_accuracy: 0.8604\n",
            "Epoch 2/25\n",
            "1719/1719 [==============================] - 7s 4ms/step - loss: 0.3820 - accuracy: 0.8651 - val_loss: 0.3740 - val_accuracy: 0.8708\n",
            "Epoch 3/25\n",
            "1719/1719 [==============================] - 8s 5ms/step - loss: 0.3486 - accuracy: 0.8763 - val_loss: 0.3730 - val_accuracy: 0.8684\n",
            "Epoch 4/25\n",
            "1719/1719 [==============================] - 8s 5ms/step - loss: 0.3264 - accuracy: 0.8838 - val_loss: 0.3492 - val_accuracy: 0.8802\n",
            "Epoch 5/25\n",
            "1719/1719 [==============================] - 8s 5ms/step - loss: 0.3103 - accuracy: 0.8896 - val_loss: 0.3428 - val_accuracy: 0.8794\n",
            "Epoch 6/25\n",
            "1719/1719 [==============================] - 9s 5ms/step - loss: 0.2957 - accuracy: 0.8952 - val_loss: 0.3410 - val_accuracy: 0.8822\n",
            "Epoch 7/25\n",
            "1719/1719 [==============================] - 9s 5ms/step - loss: 0.2853 - accuracy: 0.8988 - val_loss: 0.3352 - val_accuracy: 0.8806\n",
            "Epoch 8/25\n",
            "1719/1719 [==============================] - 9s 5ms/step - loss: 0.2759 - accuracy: 0.9017 - val_loss: 0.3361 - val_accuracy: 0.8810\n",
            "Epoch 9/25\n",
            "1719/1719 [==============================] - 8s 5ms/step - loss: 0.2677 - accuracy: 0.9053 - val_loss: 0.3261 - val_accuracy: 0.8850\n",
            "Epoch 10/25\n",
            "1719/1719 [==============================] - 8s 5ms/step - loss: 0.2607 - accuracy: 0.9072 - val_loss: 0.3237 - val_accuracy: 0.8852\n",
            "Epoch 11/25\n",
            "1719/1719 [==============================] - 8s 5ms/step - loss: 0.2550 - accuracy: 0.9089 - val_loss: 0.3246 - val_accuracy: 0.8858\n",
            "Epoch 12/25\n",
            "1719/1719 [==============================] - 8s 5ms/step - loss: 0.2496 - accuracy: 0.9127 - val_loss: 0.3295 - val_accuracy: 0.8826\n",
            "Epoch 13/25\n",
            "1719/1719 [==============================] - 8s 5ms/step - loss: 0.2448 - accuracy: 0.9134 - val_loss: 0.3215 - val_accuracy: 0.8866\n",
            "Epoch 14/25\n",
            "1719/1719 [==============================] - 8s 5ms/step - loss: 0.2414 - accuracy: 0.9147 - val_loss: 0.3218 - val_accuracy: 0.8864\n",
            "Epoch 15/25\n",
            "1719/1719 [==============================] - 8s 5ms/step - loss: 0.2374 - accuracy: 0.9168 - val_loss: 0.3205 - val_accuracy: 0.8874\n",
            "Epoch 16/25\n",
            "1719/1719 [==============================] - 8s 5ms/step - loss: 0.2342 - accuracy: 0.9180 - val_loss: 0.3180 - val_accuracy: 0.8894\n",
            "Epoch 17/25\n",
            "1719/1719 [==============================] - 8s 5ms/step - loss: 0.2315 - accuracy: 0.9185 - val_loss: 0.3194 - val_accuracy: 0.8900\n",
            "Epoch 18/25\n",
            "1719/1719 [==============================] - 8s 5ms/step - loss: 0.2290 - accuracy: 0.9196 - val_loss: 0.3166 - val_accuracy: 0.8916\n",
            "Epoch 19/25\n",
            "1719/1719 [==============================] - 8s 4ms/step - loss: 0.2268 - accuracy: 0.9205 - val_loss: 0.3195 - val_accuracy: 0.8894\n",
            "Epoch 20/25\n",
            "1719/1719 [==============================] - 7s 4ms/step - loss: 0.2249 - accuracy: 0.9220 - val_loss: 0.3166 - val_accuracy: 0.8898\n",
            "Epoch 21/25\n",
            "1719/1719 [==============================] - 8s 4ms/step - loss: 0.2228 - accuracy: 0.9225 - val_loss: 0.3177 - val_accuracy: 0.8896\n",
            "Epoch 22/25\n",
            "1719/1719 [==============================] - 8s 5ms/step - loss: 0.2215 - accuracy: 0.9224 - val_loss: 0.3161 - val_accuracy: 0.8920\n",
            "Epoch 23/25\n",
            "1719/1719 [==============================] - 8s 5ms/step - loss: 0.2200 - accuracy: 0.9232 - val_loss: 0.3168 - val_accuracy: 0.8906\n",
            "Epoch 24/25\n",
            "1719/1719 [==============================] - 7s 4ms/step - loss: 0.2187 - accuracy: 0.9243 - val_loss: 0.3164 - val_accuracy: 0.8902\n",
            "Epoch 25/25\n",
            "1719/1719 [==============================] - 8s 5ms/step - loss: 0.2178 - accuracy: 0.9240 - val_loss: 0.3163 - val_accuracy: 0.8916\n"
          ]
        }
      ],
      "source": [
        "model = keras.models.Sequential([\n",
        "    keras.layers.Flatten(input_shape=[28, 28]),\n",
        "    keras.layers.Dense(300, activation=\"selu\", kernel_initializer=\"lecun_normal\"),\n",
        "    keras.layers.Dense(100, activation=\"selu\", kernel_initializer=\"lecun_normal\"),\n",
        "    keras.layers.Dense(10, activation=\"softmax\")\n",
        "])\n",
        "s = 20 * len(X_train) // 32 # number of steps in 20 epochs (batch size = 32)\n",
        "learning_rate = keras.optimizers.schedules.ExponentialDecay(0.01, s, 0.1)\n",
        "optimizer = keras.optimizers.SGD(learning_rate)\n",
        "model.compile(loss=\"sparse_categorical_crossentropy\", optimizer=optimizer, metrics=[\"accuracy\"])\n",
        "n_epochs = 25\n",
        "history = model.fit(X_train_scaled, y_train, epochs=n_epochs,\n",
        "                    validation_data=(X_valid_scaled, y_valid))"
      ]
    },
    {
      "cell_type": "markdown",
      "metadata": {
        "id": "Bqe6QmwMd2I_"
      },
      "source": [
        "For piecewise constant scheduling, try this:"
      ]
    },
    {
      "cell_type": "code",
      "execution_count": 75,
      "metadata": {
        "id": "dUZPKbQOd2I_"
      },
      "outputs": [],
      "source": [
        "learning_rate = keras.optimizers.schedules.PiecewiseConstantDecay(\n",
        "    boundaries=[5. * n_steps_per_epoch, 15. * n_steps_per_epoch],\n",
        "    values=[0.01, 0.005, 0.001])"
      ]
    },
    {
      "cell_type": "markdown",
      "metadata": {
        "id": "8rP-g0Ozd2I_"
      },
      "source": [
        "**1Cycle scheduling**"
      ]
    },
    {
      "cell_type": "code",
      "execution_count": 76,
      "metadata": {
        "id": "m_cGj7Z2d2I_"
      },
      "outputs": [],
      "source": [
        "K = keras.backend\n",
        "\n",
        "class ExponentialLearningRate(keras.callbacks.Callback):\n",
        "    def __init__(self, factor):\n",
        "        self.factor = factor\n",
        "        self.rates = []\n",
        "        self.losses = []\n",
        "    def on_batch_end(self, batch, logs):\n",
        "        self.rates.append(K.get_value(self.model.optimizer.learning_rate))\n",
        "        self.losses.append(logs[\"loss\"])\n",
        "        K.set_value(self.model.optimizer.learning_rate, self.model.optimizer.learning_rate * self.factor)\n",
        "\n",
        "def find_learning_rate(model, X, y, epochs=1, batch_size=32, min_rate=10**-5, max_rate=10):\n",
        "    init_weights = model.get_weights()\n",
        "    iterations = math.ceil(len(X) / batch_size) * epochs\n",
        "    factor = np.exp(np.log(max_rate / min_rate) / iterations)\n",
        "    init_lr = K.get_value(model.optimizer.learning_rate)\n",
        "    K.set_value(model.optimizer.learning_rate, min_rate)\n",
        "    exp_lr = ExponentialLearningRate(factor)\n",
        "    history = model.fit(X, y, epochs=epochs, batch_size=batch_size,\n",
        "                        callbacks=[exp_lr])\n",
        "    K.set_value(model.optimizer.learning_rate, init_lr)\n",
        "    model.set_weights(init_weights)\n",
        "    return exp_lr.rates, exp_lr.losses\n",
        "\n",
        "def plot_lr_vs_loss(rates, losses):\n",
        "    plt.plot(rates, losses)\n",
        "    plt.gca().set_xscale('log')\n",
        "    plt.hlines(min(losses), min(rates), max(rates))\n",
        "    plt.axis([min(rates), max(rates), min(losses), (losses[0] + min(losses)) / 2])\n",
        "    plt.xlabel(\"Learning rate\")\n",
        "    plt.ylabel(\"Loss\")"
      ]
    },
    {
      "cell_type": "code",
      "execution_count": 77,
      "metadata": {
        "id": "kPynB83pd2JA"
      },
      "outputs": [],
      "source": [
        "tf.random.set_seed(42)\n",
        "np.random.seed(42)\n",
        "\n",
        "model = keras.models.Sequential([\n",
        "    keras.layers.Flatten(input_shape=[28, 28]),\n",
        "    keras.layers.Dense(300, activation=\"selu\", kernel_initializer=\"lecun_normal\"),\n",
        "    keras.layers.Dense(100, activation=\"selu\", kernel_initializer=\"lecun_normal\"),\n",
        "    keras.layers.Dense(10, activation=\"softmax\")\n",
        "])\n",
        "model.compile(loss=\"sparse_categorical_crossentropy\",\n",
        "              optimizer=keras.optimizers.SGD(learning_rate=1e-3),\n",
        "              metrics=[\"accuracy\"])"
      ]
    },
    {
      "cell_type": "code",
      "execution_count": 78,
      "metadata": {
        "id": "jOjCyR94d2JA",
        "outputId": "4788805a-3d1f-4c1f-a4ff-75d760379e78",
        "colab": {
          "base_uri": "https://localhost:8080/",
          "height": 308
        }
      },
      "outputs": [
        {
          "output_type": "stream",
          "name": "stdout",
          "text": [
            "430/430 [==============================] - 4s 9ms/step - loss: nan - accuracy: 0.3855\n"
          ]
        },
        {
          "output_type": "display_data",
          "data": {
            "text/plain": [
              "<Figure size 432x288 with 1 Axes>"
            ],
            "image/png": "[encoded data removed]"
          },
          "metadata": {
            "needs_background": "light"
          }
        }
      ],
      "source": [
        "batch_size = 128\n",
        "rates, losses = find_learning_rate(model, X_train_scaled, y_train, epochs=1, batch_size=batch_size)\n",
        "plot_lr_vs_loss(rates, losses)"
      ]
    },
    {
      "cell_type": "code",
      "execution_count": 79,
      "metadata": {
        "id": "8GRCopbXd2JA"
      },
      "outputs": [],
      "source": [
        "class OneCycleScheduler(keras.callbacks.Callback):\n",
        "    def __init__(self, iterations, max_rate, start_rate=None,\n",
        "                 last_iterations=None, last_rate=None):\n",
        "        self.iterations = iterations\n",
        "        self.max_rate = max_rate\n",
        "        self.start_rate = start_rate or max_rate / 10\n",
        "        self.last_iterations = last_iterations or iterations // 10 + 1\n",
        "        self.half_iteration = (iterations - self.last_iterations) // 2\n",
        "        self.last_rate = last_rate or self.start_rate / 1000\n",
        "        self.iteration = 0\n",
        "    def _interpolate(self, iter1, iter2, rate1, rate2):\n",
        "        return ((rate2 - rate1) * (self.iteration - iter1)\n",
        "                / (iter2 - iter1) + rate1)\n",
        "    def on_batch_begin(self, batch, logs):\n",
        "        if self.iteration < self.half_iteration:\n",
        "            rate = self._interpolate(0, self.half_iteration, self.start_rate, self.max_rate)\n",
        "        elif self.iteration < 2 * self.half_iteration:\n",
        "            rate = self._interpolate(self.half_iteration, 2 * self.half_iteration,\n",
        "                                     self.max_rate, self.start_rate)\n",
        "        else:\n",
        "            rate = self._interpolate(2 * self.half_iteration, self.iterations,\n",
        "                                     self.start_rate, self.last_rate)\n",
        "        self.iteration += 1\n",
        "        K.set_value(self.model.optimizer.learning_rate, rate)"
      ]
    },
    {
      "cell_type": "code",
      "execution_count": 80,
      "metadata": {
        "id": "10B2L8uWd2JA",
        "outputId": "ecd05f85-60e1-4533-e473-c0e175eabaa0",
        "colab": {
          "base_uri": "https://localhost:8080/"
        }
      },
      "outputs": [
        {
          "output_type": "stream",
          "name": "stdout",
          "text": [
            "Epoch 1/25\n",
            "430/430 [==============================] - 4s 9ms/step - loss: 0.6572 - accuracy: 0.7739 - val_loss: 0.4872 - val_accuracy: 0.8336\n",
            "Epoch 2/25\n",
            "430/430 [==============================] - 4s 9ms/step - loss: 0.4581 - accuracy: 0.8396 - val_loss: 0.4275 - val_accuracy: 0.8522\n",
            "Epoch 3/25\n",
            "430/430 [==============================] - 4s 8ms/step - loss: 0.4122 - accuracy: 0.8547 - val_loss: 0.4114 - val_accuracy: 0.8584\n",
            "Epoch 4/25\n",
            "430/430 [==============================] - 4s 8ms/step - loss: 0.3837 - accuracy: 0.8643 - val_loss: 0.3870 - val_accuracy: 0.8684\n",
            "Epoch 5/25\n",
            "430/430 [==============================] - 4s 9ms/step - loss: 0.3640 - accuracy: 0.8718 - val_loss: 0.3765 - val_accuracy: 0.8684\n",
            "Epoch 6/25\n",
            "430/430 [==============================] - 4s 9ms/step - loss: 0.3457 - accuracy: 0.8775 - val_loss: 0.3746 - val_accuracy: 0.8710\n",
            "Epoch 7/25\n",
            "430/430 [==============================] - 4s 9ms/step - loss: 0.3330 - accuracy: 0.8812 - val_loss: 0.3636 - val_accuracy: 0.8716\n",
            "Epoch 8/25\n",
            "430/430 [==============================] - 4s 9ms/step - loss: 0.3185 - accuracy: 0.8864 - val_loss: 0.3963 - val_accuracy: 0.8606\n",
            "Epoch 9/25\n",
            "430/430 [==============================] - 4s 9ms/step - loss: 0.3066 - accuracy: 0.8891 - val_loss: 0.3486 - val_accuracy: 0.8758\n",
            "Epoch 10/25\n",
            "430/430 [==============================] - 4s 9ms/step - loss: 0.2945 - accuracy: 0.8929 - val_loss: 0.3400 - val_accuracy: 0.8812\n",
            "Epoch 11/25\n",
            "430/430 [==============================] - 4s 9ms/step - loss: 0.2841 - accuracy: 0.8960 - val_loss: 0.3466 - val_accuracy: 0.8808\n",
            "Epoch 12/25\n",
            "430/430 [==============================] - 4s 9ms/step - loss: 0.2710 - accuracy: 0.9023 - val_loss: 0.3651 - val_accuracy: 0.8690\n",
            "Epoch 13/25\n",
            "430/430 [==============================] - 4s 9ms/step - loss: 0.2539 - accuracy: 0.9082 - val_loss: 0.3356 - val_accuracy: 0.8832\n",
            "Epoch 14/25\n",
            "430/430 [==============================] - 4s 9ms/step - loss: 0.2406 - accuracy: 0.9138 - val_loss: 0.3462 - val_accuracy: 0.8810\n",
            "Epoch 15/25\n",
            "430/430 [==============================] - 4s 9ms/step - loss: 0.2282 - accuracy: 0.9177 - val_loss: 0.3262 - val_accuracy: 0.8850\n",
            "Epoch 16/25\n",
            "430/430 [==============================] - 4s 9ms/step - loss: 0.2160 - accuracy: 0.9231 - val_loss: 0.3297 - val_accuracy: 0.8836\n",
            "Epoch 17/25\n",
            "430/430 [==============================] - 4s 9ms/step - loss: 0.2063 - accuracy: 0.9263 - val_loss: 0.3344 - val_accuracy: 0.8870\n",
            "Epoch 18/25\n",
            "430/430 [==============================] - 4s 8ms/step - loss: 0.1979 - accuracy: 0.9303 - val_loss: 0.3240 - val_accuracy: 0.8904\n",
            "Epoch 19/25\n",
            "430/430 [==============================] - 4s 8ms/step - loss: 0.1893 - accuracy: 0.9339 - val_loss: 0.3228 - val_accuracy: 0.8898\n",
            "Epoch 20/25\n",
            "430/430 [==============================] - 4s 8ms/step - loss: 0.1822 - accuracy: 0.9364 - val_loss: 0.3219 - val_accuracy: 0.8934\n",
            "Epoch 21/25\n",
            "430/430 [==============================] - 4s 9ms/step - loss: 0.1753 - accuracy: 0.9399 - val_loss: 0.3209 - val_accuracy: 0.8916\n",
            "Epoch 22/25\n",
            "430/430 [==============================] - 4s 8ms/step - loss: 0.1701 - accuracy: 0.9417 - val_loss: 0.3174 - val_accuracy: 0.8950\n",
            "Epoch 23/25\n",
            "430/430 [==============================] - 4s 9ms/step - loss: 0.1655 - accuracy: 0.9440 - val_loss: 0.3181 - val_accuracy: 0.8944\n",
            "Epoch 24/25\n",
            "430/430 [==============================] - 4s 9ms/step - loss: 0.1627 - accuracy: 0.9454 - val_loss: 0.3172 - val_accuracy: 0.8934\n",
            "Epoch 25/25\n",
            "430/430 [==============================] - 4s 9ms/step - loss: 0.1610 - accuracy: 0.9462 - val_loss: 0.3165 - val_accuracy: 0.8940\n"
          ]
        }
      ],
      "source": [
        "n_epochs = 25\n",
        "onecycle = OneCycleScheduler(math.ceil(len(X_train) / batch_size) * n_epochs, max_rate=0.05)\n",
        "history = model.fit(X_train_scaled, y_train, epochs=n_epochs, batch_size=batch_size,\n",
        "                    validation_data=(X_valid_scaled, y_valid),\n",
        "                    callbacks=[onecycle])"
      ]
    },
    {
      "cell_type": "markdown",
      "metadata": {
        "id": "QFEv20oWd2JA"
      },
      "source": [
        "**Avoiding Overfitting Through Regularization**"
      ]
    },
    {
      "cell_type": "markdown",
      "metadata": {
        "id": "Rsoy4rP1d2JA"
      },
      "source": [
        "**$\\ell_1$ and $\\ell_2$ regularization**"
      ]
    },
    {
      "cell_type": "code",
      "execution_count": 81,
      "metadata": {
        "id": "t-rLRWSxd2JA"
      },
      "outputs": [],
      "source": [
        "layer = keras.layers.Dense(100, activation=\"elu\",\n",
        "                           kernel_initializer=\"he_normal\",\n",
        "                           kernel_regularizer=keras.regularizers.l2(0.01))\n",
        "# or l1(0.1) for ℓ1 regularization with a factor of 0.1\n",
        "# or l1_l2(0.1, 0.01) for both ℓ1 and ℓ2 regularization, with factors 0.1 and 0.01 respectively"
      ]
    },
    {
      "cell_type": "code",
      "execution_count": 82,
      "metadata": {
        "id": "d7Wwcgekd2JA",
        "outputId": "11f90f6a-03af-4c8c-bb0f-93575b713e93",
        "colab": {
          "base_uri": "https://localhost:8080/"
        }
      },
      "outputs": [
        {
          "output_type": "stream",
          "name": "stdout",
          "text": [
            "Epoch 1/2\n",
            "1719/1719 [==============================] - 17s 9ms/step - loss: 1.5956 - accuracy: 0.8124 - val_loss: 0.7169 - val_accuracy: 0.8340\n",
            "Epoch 2/2\n",
            "1719/1719 [==============================] - 16s 9ms/step - loss: 0.7197 - accuracy: 0.8274 - val_loss: 0.6850 - val_accuracy: 0.8376\n"
          ]
        }
      ],
      "source": [
        "model = keras.models.Sequential([\n",
        "    keras.layers.Flatten(input_shape=[28, 28]),\n",
        "    keras.layers.Dense(300, activation=\"elu\",\n",
        "                       kernel_initializer=\"he_normal\",\n",
        "                       kernel_regularizer=keras.regularizers.l2(0.01)),\n",
        "    keras.layers.Dense(100, activation=\"elu\",\n",
        "                       kernel_initializer=\"he_normal\",\n",
        "                       kernel_regularizer=keras.regularizers.l2(0.01)),\n",
        "    keras.layers.Dense(10, activation=\"softmax\",\n",
        "                       kernel_regularizer=keras.regularizers.l2(0.01))\n",
        "])\n",
        "model.compile(loss=\"sparse_categorical_crossentropy\", optimizer=\"nadam\", metrics=[\"accuracy\"])\n",
        "n_epochs = 2\n",
        "history = model.fit(X_train_scaled, y_train, epochs=n_epochs,\n",
        "                    validation_data=(X_valid_scaled, y_valid))"
      ]
    },
    {
      "cell_type": "code",
      "execution_count": 83,
      "metadata": {
        "id": "4OpsxKhod2JA",
        "outputId": "f1e76561-d5be-4ef9-a6ce-359354924618",
        "colab": {
          "base_uri": "https://localhost:8080/"
        }
      },
      "outputs": [
        {
          "output_type": "stream",
          "name": "stdout",
          "text": [
            "Epoch 1/2\n",
            "1719/1719 [==============================] - 18s 10ms/step - loss: 1.6313 - accuracy: 0.8113 - val_loss: 0.7218 - val_accuracy: 0.8310\n",
            "Epoch 2/2\n",
            "1719/1719 [==============================] - 16s 9ms/step - loss: 0.7187 - accuracy: 0.8273 - val_loss: 0.6826 - val_accuracy: 0.8382\n"
          ]
        }
      ],
      "source": [
        "from functools import partial\n",
        "\n",
        "RegularizedDense = partial(keras.layers.Dense,\n",
        "                           activation=\"elu\",\n",
        "                           kernel_initializer=\"he_normal\",\n",
        "                           kernel_regularizer=keras.regularizers.l2(0.01))\n",
        "\n",
        "model = keras.models.Sequential([\n",
        "    keras.layers.Flatten(input_shape=[28, 28]),\n",
        "    RegularizedDense(300),\n",
        "    RegularizedDense(100),\n",
        "    RegularizedDense(10, activation=\"softmax\")\n",
        "])\n",
        "model.compile(loss=\"sparse_categorical_crossentropy\", optimizer=\"nadam\", metrics=[\"accuracy\"])\n",
        "n_epochs = 2\n",
        "history = model.fit(X_train_scaled, y_train, epochs=n_epochs,\n",
        "                    validation_data=(X_valid_scaled, y_valid))"
      ]
    },
    {
      "cell_type": "markdown",
      "metadata": {
        "id": "YCb7yrYid2JA"
      },
      "source": [
        "**Dropout**"
      ]
    },
    {
      "cell_type": "code",
      "execution_count": 84,
      "metadata": {
        "id": "qIa9FnBtd2JA",
        "outputId": "fd25d6b8-4f8a-4bc3-c2b0-819079b64e70",
        "colab": {
          "base_uri": "https://localhost:8080/"
        }
      },
      "outputs": [
        {
          "output_type": "stream",
          "name": "stdout",
          "text": [
            "Epoch 1/2\n",
            "1719/1719 [==============================] - 16s 9ms/step - loss: 0.5838 - accuracy: 0.7997 - val_loss: 0.3730 - val_accuracy: 0.8644\n",
            "Epoch 2/2\n",
            "1719/1719 [==============================] - 15s 9ms/step - loss: 0.4209 - accuracy: 0.8443 - val_loss: 0.3396 - val_accuracy: 0.8714\n"
          ]
        }
      ],
      "source": [
        "model = keras.models.Sequential([\n",
        "    keras.layers.Flatten(input_shape=[28, 28]),\n",
        "    keras.layers.Dropout(rate=0.2),\n",
        "    keras.layers.Dense(300, activation=\"elu\", kernel_initializer=\"he_normal\"),\n",
        "    keras.layers.Dropout(rate=0.2),\n",
        "    keras.layers.Dense(100, activation=\"elu\", kernel_initializer=\"he_normal\"),\n",
        "    keras.layers.Dropout(rate=0.2),\n",
        "    keras.layers.Dense(10, activation=\"softmax\")\n",
        "])\n",
        "model.compile(loss=\"sparse_categorical_crossentropy\", optimizer=\"nadam\", metrics=[\"accuracy\"])\n",
        "n_epochs = 2\n",
        "history = model.fit(X_train_scaled, y_train, epochs=n_epochs,\n",
        "                    validation_data=(X_valid_scaled, y_valid))"
      ]
    },
    {
      "cell_type": "markdown",
      "metadata": {
        "id": "yufQE26xd2JA"
      },
      "source": [
        "**Alpha Dropout**"
      ]
    },
    {
      "cell_type": "code",
      "execution_count": 85,
      "metadata": {
        "id": "AGWl9tkxd2JA"
      },
      "outputs": [],
      "source": [
        "tf.random.set_seed(42)\n",
        "np.random.seed(42)"
      ]
    },
    {
      "cell_type": "code",
      "execution_count": 86,
      "metadata": {
        "id": "-qsNrfdmd2JB",
        "outputId": "1e60f2ed-6baa-4d71-c04e-08ec5354fde0",
        "colab": {
          "base_uri": "https://localhost:8080/"
        }
      },
      "outputs": [
        {
          "output_type": "stream",
          "name": "stdout",
          "text": [
            "Epoch 1/20\n",
            "1719/1719 [==============================] - 11s 6ms/step - loss: 0.6617 - accuracy: 0.7611 - val_loss: 0.5777 - val_accuracy: 0.8410\n",
            "Epoch 2/20\n",
            "1719/1719 [==============================] - 10s 6ms/step - loss: 0.5548 - accuracy: 0.7966 - val_loss: 0.5416 - val_accuracy: 0.8480\n",
            "Epoch 3/20\n",
            "1719/1719 [==============================] - 10s 6ms/step - loss: 0.5258 - accuracy: 0.8063 - val_loss: 0.5018 - val_accuracy: 0.8570\n",
            "Epoch 4/20\n",
            "1719/1719 [==============================] - 10s 6ms/step - loss: 0.5049 - accuracy: 0.8131 - val_loss: 0.4768 - val_accuracy: 0.8600\n",
            "Epoch 5/20\n",
            "1719/1719 [==============================] - 10s 6ms/step - loss: 0.4926 - accuracy: 0.8179 - val_loss: 0.4620 - val_accuracy: 0.8610\n",
            "Epoch 6/20\n",
            "1719/1719 [==============================] - 10s 6ms/step - loss: 0.4839 - accuracy: 0.8203 - val_loss: 0.4777 - val_accuracy: 0.8600\n",
            "Epoch 7/20\n",
            "1719/1719 [==============================] - 10s 6ms/step - loss: 0.4713 - accuracy: 0.8248 - val_loss: 0.5012 - val_accuracy: 0.8518\n",
            "Epoch 8/20\n",
            "1719/1719 [==============================] - 10s 6ms/step - loss: 0.4644 - accuracy: 0.8284 - val_loss: 0.4534 - val_accuracy: 0.8620\n",
            "Epoch 9/20\n",
            "1719/1719 [==============================] - 10s 6ms/step - loss: 0.4604 - accuracy: 0.8301 - val_loss: 0.4352 - val_accuracy: 0.8718\n",
            "Epoch 10/20\n",
            "1719/1719 [==============================] - 10s 6ms/step - loss: 0.4527 - accuracy: 0.8301 - val_loss: 0.4333 - val_accuracy: 0.8640\n",
            "Epoch 11/20\n",
            "1719/1719 [==============================] - 10s 6ms/step - loss: 0.4476 - accuracy: 0.8339 - val_loss: 0.4012 - val_accuracy: 0.8734\n",
            "Epoch 12/20\n",
            "1719/1719 [==============================] - 10s 6ms/step - loss: 0.4436 - accuracy: 0.8332 - val_loss: 0.5339 - val_accuracy: 0.8532\n",
            "Epoch 13/20\n",
            "1719/1719 [==============================] - 10s 6ms/step - loss: 0.4420 - accuracy: 0.8364 - val_loss: 0.4271 - val_accuracy: 0.8762\n",
            "Epoch 14/20\n",
            "1719/1719 [==============================] - 9s 5ms/step - loss: 0.4378 - accuracy: 0.8380 - val_loss: 0.4399 - val_accuracy: 0.8684\n",
            "Epoch 15/20\n",
            "1719/1719 [==============================] - 10s 6ms/step - loss: 0.4328 - accuracy: 0.8381 - val_loss: 0.4596 - val_accuracy: 0.8658\n",
            "Epoch 16/20\n",
            "1719/1719 [==============================] - 10s 6ms/step - loss: 0.4289 - accuracy: 0.8412 - val_loss: 0.4323 - val_accuracy: 0.8742\n",
            "Epoch 17/20\n",
            "1719/1719 [==============================] - 10s 6ms/step - loss: 0.4294 - accuracy: 0.8413 - val_loss: 0.5274 - val_accuracy: 0.8622\n",
            "Epoch 18/20\n",
            "1719/1719 [==============================] - 10s 6ms/step - loss: 0.4278 - accuracy: 0.8402 - val_loss: 0.4654 - val_accuracy: 0.8778\n",
            "Epoch 19/20\n",
            "1719/1719 [==============================] - 9s 5ms/step - loss: 0.4241 - accuracy: 0.8435 - val_loss: 0.4853 - val_accuracy: 0.8724\n",
            "Epoch 20/20\n",
            "1719/1719 [==============================] - 10s 6ms/step - loss: 0.4176 - accuracy: 0.8432 - val_loss: 0.4166 - val_accuracy: 0.8732\n"
          ]
        }
      ],
      "source": [
        "model = keras.models.Sequential([\n",
        "    keras.layers.Flatten(input_shape=[28, 28]),\n",
        "    keras.layers.AlphaDropout(rate=0.2),\n",
        "    keras.layers.Dense(300, activation=\"selu\", kernel_initializer=\"lecun_normal\"),\n",
        "    keras.layers.AlphaDropout(rate=0.2),\n",
        "    keras.layers.Dense(100, activation=\"selu\", kernel_initializer=\"lecun_normal\"),\n",
        "    keras.layers.AlphaDropout(rate=0.2),\n",
        "    keras.layers.Dense(10, activation=\"softmax\")\n",
        "])\n",
        "optimizer = keras.optimizers.SGD(learning_rate=0.01, momentum=0.9, nesterov=True)\n",
        "model.compile(loss=\"sparse_categorical_crossentropy\", optimizer=optimizer, metrics=[\"accuracy\"])\n",
        "n_epochs = 20\n",
        "history = model.fit(X_train_scaled, y_train, epochs=n_epochs,\n",
        "                    validation_data=(X_valid_scaled, y_valid))"
      ]
    },
    {
      "cell_type": "code",
      "execution_count": 87,
      "metadata": {
        "id": "BwmRCQXmd2JB",
        "outputId": "313bd8fb-722a-40fc-ffb3-be8ac9664417",
        "colab": {
          "base_uri": "https://localhost:8080/"
        }
      },
      "outputs": [
        {
          "output_type": "stream",
          "name": "stdout",
          "text": [
            "313/313 [==============================] - 1s 3ms/step - loss: 0.4725 - accuracy: 0.8588\n"
          ]
        },
        {
          "output_type": "execute_result",
          "data": {
            "text/plain": [
              "[0.4724937081336975, 0.8587999939918518]"
            ]
          },
          "metadata": {},
          "execution_count": 87
        }
      ],
      "source": [
        "model.evaluate(X_test_scaled, y_test)"
      ]
    },
    {
      "cell_type": "code",
      "execution_count": 88,
      "metadata": {
        "id": "qDSNCa_yd2JB",
        "outputId": "8e5094fe-9f9c-4ec4-fc9b-ba9b3d55518d",
        "colab": {
          "base_uri": "https://localhost:8080/"
        }
      },
      "outputs": [
        {
          "output_type": "stream",
          "name": "stdout",
          "text": [
            "1719/1719 [==============================] - 4s 3ms/step - loss: 0.3418 - accuracy: 0.8819\n"
          ]
        },
        {
          "output_type": "execute_result",
          "data": {
            "text/plain": [
              "[0.3418077826499939, 0.8819272518157959]"
            ]
          },
          "metadata": {},
          "execution_count": 88
        }
      ],
      "source": [
        "model.evaluate(X_train_scaled, y_train)"
      ]
    },
    {
      "cell_type": "code",
      "execution_count": 89,
      "metadata": {
        "id": "MzhAgwytd2JB",
        "outputId": "0b58d726-1467-44f7-8667-2f867dd066c7",
        "colab": {
          "base_uri": "https://localhost:8080/"
        }
      },
      "outputs": [
        {
          "output_type": "stream",
          "name": "stdout",
          "text": [
            "1719/1719 [==============================] - 10s 6ms/step - loss: 0.4182 - accuracy: 0.8432\n"
          ]
        }
      ],
      "source": [
        "history = model.fit(X_train_scaled, y_train)"
      ]
    },
    {
      "cell_type": "markdown",
      "metadata": {
        "id": "TWN2W1yGd2JB"
      },
      "source": [
        "**MC Dropout**"
      ]
    },
    {
      "cell_type": "code",
      "execution_count": 90,
      "metadata": {
        "id": "x5EL_Dj_d2JB"
      },
      "outputs": [],
      "source": [
        "tf.random.set_seed(42)\n",
        "np.random.seed(42)"
      ]
    },
    {
      "cell_type": "code",
      "execution_count": 91,
      "metadata": {
        "id": "q5-pYO8dd2JB"
      },
      "outputs": [],
      "source": [
        "y_probas = np.stack([model(X_test_scaled, training=True)\n",
        "                     for sample in range(100)])\n",
        "y_proba = y_probas.mean(axis=0)\n",
        "y_std = y_probas.std(axis=0)"
      ]
    },
    {
      "cell_type": "code",
      "execution_count": 92,
      "metadata": {
        "id": "jBrGe0Yyd2JB",
        "outputId": "cfb8ddb1-80d8-4294-b628-83f6eb6fc939",
        "colab": {
          "base_uri": "https://localhost:8080/"
        }
      },
      "outputs": [
        {
          "output_type": "execute_result",
          "data": {
            "text/plain": [
              "array([[0.  , 0.  , 0.  , 0.  , 0.  , 0.  , 0.  , 0.01, 0.  , 0.99]],\n",
              "      dtype=float32)"
            ]
          },
          "metadata": {},
          "execution_count": 92
        }
      ],
      "source": [
        "np.round(model.predict(X_test_scaled[:1]), 2)"
      ]
    },
    {
      "cell_type": "code",
      "execution_count": 93,
      "metadata": {
        "id": "6jfD05kdd2JB",
        "outputId": "caf07986-03dc-4204-d3c8-192d30e7d4ed",
        "colab": {
          "base_uri": "https://localhost:8080/"
        }
      },
      "outputs": [
        {
          "output_type": "execute_result",
          "data": {
            "text/plain": [
              "array([[[0.  , 0.  , 0.  , 0.  , 0.  , 0.38, 0.  , 0.2 , 0.  , 0.42]],\n",
              "\n",
              "       [[0.  , 0.  , 0.  , 0.  , 0.  , 0.21, 0.  , 0.26, 0.  , 0.53]],\n",
              "\n",
              "       [[0.  , 0.  , 0.  , 0.  , 0.  , 0.05, 0.  , 0.21, 0.  , 0.73]],\n",
              "\n",
              "       [[0.  , 0.  , 0.  , 0.  , 0.  , 0.1 , 0.  , 0.19, 0.  , 0.7 ]],\n",
              "\n",
              "       [[0.  , 0.  , 0.  , 0.  , 0.  , 0.24, 0.  , 0.11, 0.  , 0.65]],\n",
              "\n",
              "       [[0.  , 0.  , 0.  , 0.  , 0.  , 0.14, 0.  , 0.48, 0.  , 0.38]],\n",
              "\n",
              "       [[0.  , 0.  , 0.  , 0.  , 0.  , 0.01, 0.  , 0.01, 0.  , 0.99]],\n",
              "\n",
              "       [[0.  , 0.  , 0.  , 0.  , 0.  , 0.98, 0.  , 0.02, 0.  , 0.01]],\n",
              "\n",
              "       [[0.  , 0.  , 0.  , 0.  , 0.  , 0.  , 0.  , 0.1 , 0.  , 0.9 ]],\n",
              "\n",
              "       [[0.  , 0.  , 0.  , 0.  , 0.  , 0.02, 0.  , 0.19, 0.  , 0.79]],\n",
              "\n",
              "       [[0.  , 0.  , 0.  , 0.  , 0.  , 0.05, 0.  , 0.07, 0.  , 0.88]],\n",
              "\n",
              "       [[0.  , 0.  , 0.  , 0.  , 0.  , 0.75, 0.  , 0.05, 0.  , 0.2 ]],\n",
              "\n",
              "       [[0.  , 0.  , 0.  , 0.  , 0.  , 0.11, 0.  , 0.01, 0.  , 0.89]],\n",
              "\n",
              "       [[0.  , 0.  , 0.  , 0.  , 0.  , 0.29, 0.  , 0.14, 0.  , 0.57]],\n",
              "\n",
              "       [[0.  , 0.  , 0.  , 0.  , 0.  , 0.18, 0.  , 0.24, 0.  , 0.58]],\n",
              "\n",
              "       [[0.  , 0.  , 0.  , 0.  , 0.  , 0.35, 0.  , 0.5 , 0.  , 0.14]],\n",
              "\n",
              "       [[0.  , 0.  , 0.  , 0.  , 0.  , 0.49, 0.  , 0.  , 0.  , 0.5 ]],\n",
              "\n",
              "       [[0.  , 0.  , 0.  , 0.  , 0.  , 0.02, 0.  , 0.39, 0.  , 0.59]],\n",
              "\n",
              "       [[0.  , 0.  , 0.  , 0.  , 0.  , 0.46, 0.  , 0.07, 0.  , 0.47]],\n",
              "\n",
              "       [[0.  , 0.  , 0.  , 0.  , 0.  , 0.27, 0.  , 0.6 , 0.  , 0.12]],\n",
              "\n",
              "       [[0.  , 0.  , 0.  , 0.  , 0.  , 0.49, 0.  , 0.4 , 0.  , 0.11]],\n",
              "\n",
              "       [[0.  , 0.  , 0.  , 0.  , 0.  , 0.39, 0.  , 0.09, 0.  , 0.52]],\n",
              "\n",
              "       [[0.  , 0.  , 0.  , 0.  , 0.  , 0.01, 0.  , 0.03, 0.  , 0.96]],\n",
              "\n",
              "       [[0.  , 0.  , 0.  , 0.  , 0.  , 0.13, 0.  , 0.32, 0.  , 0.56]],\n",
              "\n",
              "       [[0.  , 0.  , 0.  , 0.  , 0.  , 0.01, 0.  , 0.02, 0.  , 0.97]],\n",
              "\n",
              "       [[0.  , 0.  , 0.  , 0.  , 0.  , 0.09, 0.  , 0.24, 0.  , 0.67]],\n",
              "\n",
              "       [[0.  , 0.  , 0.  , 0.  , 0.  , 0.31, 0.  , 0.5 , 0.  , 0.19]],\n",
              "\n",
              "       [[0.  , 0.  , 0.  , 0.  , 0.  , 0.11, 0.  , 0.25, 0.  , 0.63]],\n",
              "\n",
              "       [[0.  , 0.  , 0.  , 0.  , 0.  , 0.  , 0.  , 0.68, 0.  , 0.31]],\n",
              "\n",
              "       [[0.  , 0.  , 0.  , 0.  , 0.  , 0.04, 0.  , 0.06, 0.  , 0.89]],\n",
              "\n",
              "       [[0.  , 0.  , 0.  , 0.  , 0.  , 0.02, 0.  , 0.73, 0.  , 0.25]],\n",
              "\n",
              "       [[0.  , 0.  , 0.  , 0.  , 0.  , 0.17, 0.  , 0.43, 0.  , 0.4 ]],\n",
              "\n",
              "       [[0.  , 0.  , 0.  , 0.  , 0.  , 0.07, 0.  , 0.05, 0.  , 0.88]],\n",
              "\n",
              "       [[0.  , 0.  , 0.  , 0.  , 0.  , 0.01, 0.  , 0.11, 0.  , 0.88]],\n",
              "\n",
              "       [[0.  , 0.  , 0.  , 0.  , 0.  , 0.06, 0.  , 0.64, 0.  , 0.3 ]],\n",
              "\n",
              "       [[0.  , 0.  , 0.  , 0.  , 0.  , 0.04, 0.  , 0.27, 0.  , 0.69]],\n",
              "\n",
              "       [[0.  , 0.  , 0.  , 0.  , 0.  , 0.  , 0.  , 0.75, 0.  , 0.24]],\n",
              "\n",
              "       [[0.  , 0.  , 0.  , 0.  , 0.  , 0.05, 0.  , 0.24, 0.  , 0.71]],\n",
              "\n",
              "       [[0.  , 0.  , 0.  , 0.  , 0.  , 0.03, 0.  , 0.03, 0.  , 0.95]],\n",
              "\n",
              "       [[0.  , 0.  , 0.  , 0.  , 0.  , 0.01, 0.  , 0.18, 0.  , 0.81]],\n",
              "\n",
              "       [[0.  , 0.  , 0.  , 0.  , 0.  , 0.17, 0.  , 0.29, 0.  , 0.54]],\n",
              "\n",
              "       [[0.  , 0.  , 0.  , 0.  , 0.  , 0.49, 0.  , 0.09, 0.  , 0.42]],\n",
              "\n",
              "       [[0.  , 0.  , 0.  , 0.  , 0.  , 0.07, 0.  , 0.23, 0.  , 0.7 ]],\n",
              "\n",
              "       [[0.  , 0.  , 0.  , 0.  , 0.  , 0.  , 0.  , 0.01, 0.  , 0.99]],\n",
              "\n",
              "       [[0.  , 0.  , 0.  , 0.  , 0.  , 0.03, 0.  , 0.24, 0.  , 0.73]],\n",
              "\n",
              "       [[0.  , 0.  , 0.  , 0.  , 0.  , 0.5 , 0.  , 0.1 , 0.  , 0.4 ]],\n",
              "\n",
              "       [[0.  , 0.  , 0.  , 0.  , 0.  , 0.16, 0.  , 0.15, 0.  , 0.69]],\n",
              "\n",
              "       [[0.  , 0.  , 0.  , 0.  , 0.  , 0.01, 0.  , 0.84, 0.  , 0.14]],\n",
              "\n",
              "       [[0.  , 0.  , 0.  , 0.  , 0.  , 0.03, 0.  , 0.75, 0.  , 0.22]],\n",
              "\n",
              "       [[0.  , 0.  , 0.  , 0.  , 0.  , 0.02, 0.  , 0.01, 0.  , 0.97]],\n",
              "\n",
              "       [[0.  , 0.  , 0.  , 0.  , 0.  , 0.35, 0.  , 0.23, 0.  , 0.42]],\n",
              "\n",
              "       [[0.  , 0.  , 0.  , 0.  , 0.  , 0.03, 0.  , 0.12, 0.  , 0.85]],\n",
              "\n",
              "       [[0.  , 0.  , 0.  , 0.  , 0.  , 0.  , 0.  , 0.54, 0.  , 0.46]],\n",
              "\n",
              "       [[0.  , 0.  , 0.  , 0.  , 0.  , 0.  , 0.  , 0.12, 0.  , 0.88]],\n",
              "\n",
              "       [[0.  , 0.  , 0.  , 0.  , 0.  , 0.05, 0.  , 0.61, 0.  , 0.34]],\n",
              "\n",
              "       [[0.  , 0.  , 0.  , 0.  , 0.  , 0.01, 0.  , 0.06, 0.  , 0.93]],\n",
              "\n",
              "       [[0.  , 0.  , 0.  , 0.  , 0.  , 0.  , 0.  , 0.  , 0.  , 1.  ]],\n",
              "\n",
              "       [[0.  , 0.  , 0.  , 0.  , 0.  , 0.1 , 0.  , 0.08, 0.  , 0.81]],\n",
              "\n",
              "       [[0.  , 0.  , 0.  , 0.  , 0.  , 0.01, 0.  , 0.95, 0.  , 0.04]],\n",
              "\n",
              "       [[0.  , 0.  , 0.  , 0.  , 0.  , 0.2 , 0.  , 0.13, 0.  , 0.67]],\n",
              "\n",
              "       [[0.  , 0.  , 0.  , 0.  , 0.  , 0.  , 0.  , 0.25, 0.  , 0.75]],\n",
              "\n",
              "       [[0.  , 0.  , 0.  , 0.  , 0.  , 0.03, 0.  , 0.15, 0.  , 0.82]],\n",
              "\n",
              "       [[0.  , 0.  , 0.  , 0.  , 0.  , 0.1 , 0.  , 0.55, 0.  , 0.34]],\n",
              "\n",
              "       [[0.  , 0.  , 0.  , 0.  , 0.  , 0.22, 0.  , 0.26, 0.  , 0.52]],\n",
              "\n",
              "       [[0.  , 0.  , 0.  , 0.  , 0.  , 0.67, 0.  , 0.06, 0.  , 0.26]],\n",
              "\n",
              "       [[0.  , 0.  , 0.  , 0.  , 0.  , 0.09, 0.  , 0.52, 0.  , 0.4 ]],\n",
              "\n",
              "       [[0.  , 0.  , 0.  , 0.  , 0.  , 0.01, 0.  , 0.34, 0.  , 0.65]],\n",
              "\n",
              "       [[0.  , 0.  , 0.  , 0.  , 0.  , 0.18, 0.  , 0.69, 0.  , 0.13]],\n",
              "\n",
              "       [[0.  , 0.  , 0.  , 0.  , 0.  , 0.1 , 0.  , 0.09, 0.  , 0.8 ]],\n",
              "\n",
              "       [[0.  , 0.  , 0.  , 0.  , 0.  , 0.04, 0.  , 0.04, 0.  , 0.92]],\n",
              "\n",
              "       [[0.  , 0.  , 0.  , 0.  , 0.  , 0.12, 0.  , 0.35, 0.  , 0.52]],\n",
              "\n",
              "       [[0.  , 0.  , 0.  , 0.  , 0.  , 0.02, 0.  , 0.  , 0.  , 0.98]],\n",
              "\n",
              "       [[0.  , 0.  , 0.  , 0.  , 0.  , 0.02, 0.  , 0.1 , 0.  , 0.89]],\n",
              "\n",
              "       [[0.  , 0.  , 0.  , 0.  , 0.  , 0.91, 0.  , 0.  , 0.  , 0.08]],\n",
              "\n",
              "       [[0.  , 0.  , 0.  , 0.  , 0.  , 0.  , 0.  , 0.04, 0.  , 0.95]],\n",
              "\n",
              "       [[0.  , 0.  , 0.  , 0.  , 0.  , 0.05, 0.  , 0.05, 0.  , 0.91]],\n",
              "\n",
              "       [[0.  , 0.  , 0.  , 0.  , 0.  , 0.03, 0.  , 0.25, 0.  , 0.72]],\n",
              "\n",
              "       [[0.  , 0.  , 0.  , 0.  , 0.  , 0.19, 0.  , 0.1 , 0.  , 0.71]],\n",
              "\n",
              "       [[0.  , 0.  , 0.  , 0.  , 0.  , 0.12, 0.  , 0.53, 0.  , 0.35]],\n",
              "\n",
              "       [[0.  , 0.  , 0.  , 0.  , 0.  , 0.1 , 0.  , 0.08, 0.  , 0.82]],\n",
              "\n",
              "       [[0.  , 0.  , 0.  , 0.  , 0.  , 0.16, 0.  , 0.33, 0.  , 0.51]],\n",
              "\n",
              "       [[0.  , 0.  , 0.  , 0.  , 0.  , 0.  , 0.  , 0.56, 0.  , 0.44]],\n",
              "\n",
              "       [[0.  , 0.  , 0.  , 0.  , 0.  , 0.05, 0.  , 0.05, 0.  , 0.9 ]],\n",
              "\n",
              "       [[0.  , 0.  , 0.  , 0.  , 0.  , 0.01, 0.  , 0.27, 0.  , 0.72]],\n",
              "\n",
              "       [[0.  , 0.  , 0.  , 0.  , 0.  , 0.01, 0.  , 0.03, 0.  , 0.96]],\n",
              "\n",
              "       [[0.  , 0.  , 0.  , 0.  , 0.  , 0.81, 0.  , 0.02, 0.04, 0.12]],\n",
              "\n",
              "       [[0.  , 0.  , 0.  , 0.  , 0.  , 0.04, 0.  , 0.48, 0.  , 0.48]],\n",
              "\n",
              "       [[0.  , 0.  , 0.  , 0.  , 0.  , 0.9 , 0.  , 0.01, 0.  , 0.09]],\n",
              "\n",
              "       [[0.  , 0.  , 0.  , 0.  , 0.  , 0.01, 0.  , 0.  , 0.  , 0.98]],\n",
              "\n",
              "       [[0.  , 0.  , 0.  , 0.  , 0.  , 0.  , 0.  , 0.12, 0.  , 0.88]],\n",
              "\n",
              "       [[0.  , 0.  , 0.  , 0.  , 0.  , 0.  , 0.  , 0.08, 0.  , 0.92]],\n",
              "\n",
              "       [[0.  , 0.  , 0.  , 0.  , 0.  , 0.03, 0.  , 0.03, 0.  , 0.94]],\n",
              "\n",
              "       [[0.  , 0.  , 0.  , 0.  , 0.  , 0.05, 0.  , 0.55, 0.  , 0.39]],\n",
              "\n",
              "       [[0.  , 0.  , 0.  , 0.  , 0.  , 0.19, 0.  , 0.08, 0.  , 0.73]],\n",
              "\n",
              "       [[0.  , 0.  , 0.  , 0.  , 0.  , 0.84, 0.  , 0.03, 0.  , 0.13]],\n",
              "\n",
              "       [[0.  , 0.  , 0.  , 0.  , 0.  , 0.14, 0.  , 0.51, 0.  , 0.35]],\n",
              "\n",
              "       [[0.  , 0.  , 0.  , 0.  , 0.  , 0.48, 0.  , 0.3 , 0.  , 0.22]],\n",
              "\n",
              "       [[0.  , 0.  , 0.  , 0.  , 0.  , 0.2 , 0.  , 0.61, 0.  , 0.19]],\n",
              "\n",
              "       [[0.  , 0.  , 0.  , 0.  , 0.  , 0.  , 0.  , 0.  , 0.  , 1.  ]],\n",
              "\n",
              "       [[0.  , 0.  , 0.  , 0.  , 0.  , 0.  , 0.  , 0.42, 0.  , 0.58]]],\n",
              "      dtype=float32)"
            ]
          },
          "metadata": {},
          "execution_count": 93
        }
      ],
      "source": [
        "np.round(y_probas[:, :1], 2)"
      ]
    },
    {
      "cell_type": "code",
      "execution_count": 94,
      "metadata": {
        "id": "b05IyET3d2JB",
        "outputId": "2aab9e6b-c82e-4e3f-eb6c-c7b1d08853a4",
        "colab": {
          "base_uri": "https://localhost:8080/"
        }
      },
      "outputs": [
        {
          "output_type": "execute_result",
          "data": {
            "text/plain": [
              "array([[0.  , 0.  , 0.  , 0.  , 0.  , 0.16, 0.  , 0.24, 0.  , 0.59]],\n",
              "      dtype=float32)"
            ]
          },
          "metadata": {},
          "execution_count": 94
        }
      ],
      "source": [
        "np.round(y_proba[:1], 2)"
      ]
    },
    {
      "cell_type": "code",
      "execution_count": 95,
      "metadata": {
        "id": "1SWw59wgd2JB",
        "outputId": "4be49e63-f044-41a2-b182-ef3c0c18bd8f",
        "colab": {
          "base_uri": "https://localhost:8080/"
        }
      },
      "outputs": [
        {
          "output_type": "execute_result",
          "data": {
            "text/plain": [
              "array([[0.  , 0.  , 0.  , 0.  , 0.  , 0.23, 0.  , 0.23, 0.  , 0.29]],\n",
              "      dtype=float32)"
            ]
          },
          "metadata": {},
          "execution_count": 95
        }
      ],
      "source": [
        "y_std = y_probas.std(axis=0)\n",
        "np.round(y_std[:1], 2)"
      ]
    },
    {
      "cell_type": "code",
      "execution_count": 96,
      "metadata": {
        "id": "n_Db1_ygd2JB"
      },
      "outputs": [],
      "source": [
        "y_pred = np.argmax(y_proba, axis=1)"
      ]
    },
    {
      "cell_type": "code",
      "execution_count": 97,
      "metadata": {
        "id": "KN9CR-1nd2JB",
        "outputId": "ad8030fe-1721-49a8-e8a0-672bd0e6eee4",
        "colab": {
          "base_uri": "https://localhost:8080/"
        }
      },
      "outputs": [
        {
          "output_type": "execute_result",
          "data": {
            "text/plain": [
              "0.8717"
            ]
          },
          "metadata": {},
          "execution_count": 97
        }
      ],
      "source": [
        "accuracy = np.sum(y_pred == y_test) / len(y_test)\n",
        "accuracy"
      ]
    },
    {
      "cell_type": "code",
      "execution_count": 98,
      "metadata": {
        "id": "sdUW1Vvad2JB"
      },
      "outputs": [],
      "source": [
        "class MCDropout(keras.layers.Dropout):\n",
        "    def call(self, inputs):\n",
        "        return super().call(inputs, training=True)\n",
        "\n",
        "class MCAlphaDropout(keras.layers.AlphaDropout):\n",
        "    def call(self, inputs):\n",
        "        return super().call(inputs, training=True)"
      ]
    },
    {
      "cell_type": "code",
      "execution_count": 99,
      "metadata": {
        "id": "uDFaFFU_d2JB"
      },
      "outputs": [],
      "source": [
        "tf.random.set_seed(42)\n",
        "np.random.seed(42)"
      ]
    },
    {
      "cell_type": "code",
      "execution_count": 100,
      "metadata": {
        "id": "5IntX1zmd2JB"
      },
      "outputs": [],
      "source": [
        "mc_model = keras.models.Sequential([\n",
        "    MCAlphaDropout(layer.rate) if isinstance(layer, keras.layers.AlphaDropout) else layer\n",
        "    for layer in model.layers\n",
        "])"
      ]
    },
    {
      "cell_type": "code",
      "execution_count": 101,
      "metadata": {
        "id": "_puo9e_Sd2JB",
        "outputId": "4e583cf5-ee0b-4df7-fe64-206e44430196",
        "colab": {
          "base_uri": "https://localhost:8080/"
        }
      },
      "outputs": [
        {
          "output_type": "stream",
          "name": "stdout",
          "text": [
            "Model: \"sequential_17\"\n",
            "_________________________________________________________________\n",
            " Layer (type)                Output Shape              Param #   \n",
            "=================================================================\n",
            " flatten_16 (Flatten)        (None, 784)               0         \n",
            "                                                                 \n",
            " mc_alpha_dropout (MCAlphaDr  (None, 784)              0         \n",
            " opout)                                                          \n",
            "                                                                 \n",
            " dense_249 (Dense)           (None, 300)               235500    \n",
            "                                                                 \n",
            " mc_alpha_dropout_1 (MCAlpha  (None, 300)              0         \n",
            " Dropout)                                                        \n",
            "                                                                 \n",
            " dense_250 (Dense)           (None, 100)               30100     \n",
            "                                                                 \n",
            " mc_alpha_dropout_2 (MCAlpha  (None, 100)              0         \n",
            " Dropout)                                                        \n",
            "                                                                 \n",
            " dense_251 (Dense)           (None, 10)                1010      \n",
            "                                                                 \n",
            "=================================================================\n",
            "Total params: 266,610\n",
            "Trainable params: 266,610\n",
            "Non-trainable params: 0\n",
            "_________________________________________________________________\n"
          ]
        }
      ],
      "source": [
        "mc_model.summary()"
      ]
    },
    {
      "cell_type": "code",
      "execution_count": 102,
      "metadata": {
        "id": "C9fyJi9Hd2JB"
      },
      "outputs": [],
      "source": [
        "optimizer = keras.optimizers.SGD(learning_rate=0.01, momentum=0.9, nesterov=True)\n",
        "mc_model.compile(loss=\"sparse_categorical_crossentropy\", optimizer=optimizer, metrics=[\"accuracy\"])"
      ]
    },
    {
      "cell_type": "code",
      "execution_count": 103,
      "metadata": {
        "id": "GqU6DxKEd2JB"
      },
      "outputs": [],
      "source": [
        "mc_model.set_weights(model.get_weights())"
      ]
    },
    {
      "cell_type": "markdown",
      "metadata": {
        "id": "KOp_jZaSd2JC"
      },
      "source": [
        "Now we can use the model with MC Dropout:"
      ]
    },
    {
      "cell_type": "code",
      "execution_count": 104,
      "metadata": {
        "id": "pvP9959zd2JC",
        "outputId": "1e471a40-02f5-4ae8-d1e6-c276b024e38a",
        "colab": {
          "base_uri": "https://localhost:8080/"
        }
      },
      "outputs": [
        {
          "output_type": "execute_result",
          "data": {
            "text/plain": [
              "array([[0.  , 0.  , 0.  , 0.  , 0.  , 0.15, 0.  , 0.28, 0.  , 0.57]],\n",
              "      dtype=float32)"
            ]
          },
          "metadata": {},
          "execution_count": 104
        }
      ],
      "source": [
        "np.round(np.mean([mc_model.predict(X_test_scaled[:1]) for sample in range(100)], axis=0), 2)"
      ]
    },
    {
      "cell_type": "markdown",
      "metadata": {
        "id": "pPpLkYWdd2JC"
      },
      "source": [
        "**Max norm**"
      ]
    },
    {
      "cell_type": "code",
      "execution_count": 105,
      "metadata": {
        "id": "xvLDazT0d2JC"
      },
      "outputs": [],
      "source": [
        "layer = keras.layers.Dense(100, activation=\"selu\", kernel_initializer=\"lecun_normal\",\n",
        "                           kernel_constraint=keras.constraints.max_norm(1.))"
      ]
    },
    {
      "cell_type": "code",
      "execution_count": 106,
      "metadata": {
        "id": "zCEVWxeWd2JC",
        "outputId": "e65135a6-6ee0-49fd-9fb3-6f2377f4cbb7",
        "colab": {
          "base_uri": "https://localhost:8080/"
        }
      },
      "outputs": [
        {
          "output_type": "stream",
          "name": "stdout",
          "text": [
            "Epoch 1/2\n",
            "1719/1719 [==============================] - 17s 9ms/step - loss: 0.4741 - accuracy: 0.8337 - val_loss: 0.3711 - val_accuracy: 0.8638\n",
            "Epoch 2/2\n",
            "1719/1719 [==============================] - 15s 9ms/step - loss: 0.3566 - accuracy: 0.8711 - val_loss: 0.3563 - val_accuracy: 0.8740\n"
          ]
        }
      ],
      "source": [
        "MaxNormDense = partial(keras.layers.Dense,\n",
        "                       activation=\"selu\", kernel_initializer=\"lecun_normal\",\n",
        "                       kernel_constraint=keras.constraints.max_norm(1.))\n",
        "\n",
        "model = keras.models.Sequential([\n",
        "    keras.layers.Flatten(input_shape=[28, 28]),\n",
        "    MaxNormDense(300),\n",
        "    MaxNormDense(100),\n",
        "    keras.layers.Dense(10, activation=\"softmax\")\n",
        "])\n",
        "model.compile(loss=\"sparse_categorical_crossentropy\", optimizer=\"nadam\", metrics=[\"accuracy\"])\n",
        "n_epochs = 2\n",
        "history = model.fit(X_train_scaled, y_train, epochs=n_epochs,\n",
        "                    validation_data=(X_valid_scaled, y_valid))"
      ]
    }
  ]
}